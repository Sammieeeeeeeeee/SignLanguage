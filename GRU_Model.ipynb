{
  "cells": [
    {
      "cell_type": "code",
      "execution_count": null,
      "metadata": {
        "colab": {
          "base_uri": "https://localhost:8080/"
        },
        "id": "peUfgEvy4z4G",
        "outputId": "02355823-f102-45e6-a392-5f4de6c5696e"
      },
      "outputs": [
        {
          "name": "stdout",
          "output_type": "stream",
          "text": [
            "Mounted at /content/drive\n"
          ]
        }
      ],
      "source": [
        "# method to mount data from google drive\n",
        "from google.colab import drive\n",
        "drive.mount('/content/drive')"
      ]
    },
    {
      "cell_type": "markdown",
      "metadata": {
        "id": "m1ejrC2G47Fz"
      },
      "source": [
        "# MediaPipe Landmark Extraction"
      ]
    },
    {
      "cell_type": "code",
      "execution_count": null,
      "metadata": {
        "colab": {
          "base_uri": "https://localhost:8080/"
        },
        "collapsed": true,
        "id": "FG7PLPYP5Bi2",
        "outputId": "70143571-0310-42cd-f4ed-8bd0ad0af59b"
      },
      "outputs": [
        {
          "name": "stdout",
          "output_type": "stream",
          "text": [
            "Requirement already satisfied: mediapipe==0.10.9 in /usr/local/lib/python3.11/dist-packages (0.10.9)\n",
            "Requirement already satisfied: absl-py in /usr/local/lib/python3.11/dist-packages (from mediapipe==0.10.9) (1.4.0)\n",
            "Requirement already satisfied: attrs>=19.1.0 in /usr/local/lib/python3.11/dist-packages (from mediapipe==0.10.9) (25.3.0)\n",
            "Requirement already satisfied: flatbuffers>=2.0 in /usr/local/lib/python3.11/dist-packages (from mediapipe==0.10.9) (25.2.10)\n",
            "Requirement already satisfied: matplotlib in /usr/local/lib/python3.11/dist-packages (from mediapipe==0.10.9) (3.10.0)\n",
            "Requirement already satisfied: numpy in /usr/local/lib/python3.11/dist-packages (from mediapipe==0.10.9) (2.0.2)\n",
            "Requirement already satisfied: opencv-contrib-python in /usr/local/lib/python3.11/dist-packages (from mediapipe==0.10.9) (4.11.0.86)\n",
            "Requirement already satisfied: protobuf<4,>=3.11 in /usr/local/lib/python3.11/dist-packages (from mediapipe==0.10.9) (3.20.3)\n",
            "Requirement already satisfied: sounddevice>=0.4.4 in /usr/local/lib/python3.11/dist-packages (from mediapipe==0.10.9) (0.5.1)\n",
            "Requirement already satisfied: CFFI>=1.0 in /usr/local/lib/python3.11/dist-packages (from sounddevice>=0.4.4->mediapipe==0.10.9) (1.17.1)\n",
            "Requirement already satisfied: contourpy>=1.0.1 in /usr/local/lib/python3.11/dist-packages (from matplotlib->mediapipe==0.10.9) (1.3.2)\n",
            "Requirement already satisfied: cycler>=0.10 in /usr/local/lib/python3.11/dist-packages (from matplotlib->mediapipe==0.10.9) (0.12.1)\n",
            "Requirement already satisfied: fonttools>=4.22.0 in /usr/local/lib/python3.11/dist-packages (from matplotlib->mediapipe==0.10.9) (4.57.0)\n",
            "Requirement already satisfied: kiwisolver>=1.3.1 in /usr/local/lib/python3.11/dist-packages (from matplotlib->mediapipe==0.10.9) (1.4.8)\n",
            "Requirement already satisfied: packaging>=20.0 in /usr/local/lib/python3.11/dist-packages (from matplotlib->mediapipe==0.10.9) (24.2)\n",
            "Requirement already satisfied: pillow>=8 in /usr/local/lib/python3.11/dist-packages (from matplotlib->mediapipe==0.10.9) (11.2.1)\n",
            "Requirement already satisfied: pyparsing>=2.3.1 in /usr/local/lib/python3.11/dist-packages (from matplotlib->mediapipe==0.10.9) (3.2.3)\n",
            "Requirement already satisfied: python-dateutil>=2.7 in /usr/local/lib/python3.11/dist-packages (from matplotlib->mediapipe==0.10.9) (2.9.0.post0)\n",
            "Requirement already satisfied: pycparser in /usr/local/lib/python3.11/dist-packages (from CFFI>=1.0->sounddevice>=0.4.4->mediapipe==0.10.9) (2.22)\n",
            "Requirement already satisfied: six>=1.5 in /usr/local/lib/python3.11/dist-packages (from python-dateutil>=2.7->matplotlib->mediapipe==0.10.9) (1.17.0)\n",
            "Collecting tdqm\n",
            "  Downloading tdqm-0.0.1.tar.gz (1.4 kB)\n",
            "  Preparing metadata (setup.py) ... \u001b[?25l\u001b[?25hdone\n",
            "Requirement already satisfied: tqdm in /usr/local/lib/python3.11/dist-packages (from tdqm) (4.67.1)\n",
            "Building wheels for collected packages: tdqm\n",
            "  Building wheel for tdqm (setup.py) ... \u001b[?25l\u001b[?25hdone\n",
            "  Created wheel for tdqm: filename=tdqm-0.0.1-py3-none-any.whl size=1322 sha256=019a0d6e685d7a8e0850e989740de9c471e45e41b68d6ee9abc50f1df039bdf9\n",
            "  Stored in directory: /root/.cache/pip/wheels/c8/c7/30/e5935be2cfa6883be72462333edc414d8928f3c78eaabec38a\n",
            "Successfully built tdqm\n",
            "Installing collected packages: tdqm\n",
            "Successfully installed tdqm-0.0.1\n"
          ]
        }
      ],
      "source": [
        "!pip install mediapipe==0.10.9\n",
        "!pip install tdqm"
      ]
    },
    {
      "cell_type": "markdown",
      "metadata": {
        "id": "VfDI6Jv35ezD"
      },
      "source": [
        "# MediaPipe Landmark Extraction"
      ]
    },
    {
      "cell_type": "code",
      "execution_count": null,
      "metadata": {
        "id": "LMccAjV_6xzQ"
      },
      "outputs": [],
      "source": [
        "import os\n",
        "import numpy as np\n",
        "from sklearn.model_selection import train_test_split\n",
        "from tensorflow.keras.utils import to_categorical"
      ]
    },
    {
      "cell_type": "code",
      "execution_count": null,
      "metadata": {
        "id": "PqaC2NdQ5iAX"
      },
      "outputs": [],
      "source": [
        "def mediapipe_detection(image, model):\n",
        "    image = cv2.cvtColor(image, cv2.COLOR_BGR2RGB)\n",
        "    image.flags.writeable = False\n",
        "    results = model.process(image)\n",
        "    image.flags.writeable = True\n",
        "    image = cv2.cvtColor(image, cv2.COLOR_RGB2BGR)\n",
        "    return image, results\n",
        "\n",
        "def draw_landmarks(image, results):\n",
        "    mp_holistic = mp.solutions.holistic  # Holistic model\n",
        "    mp_drawing = mp.solutions.drawing_utils  # Drawing utilities\n",
        "    # Draw left hand connections\n",
        "    image = mp_drawing.draw_landmarks(\n",
        "            image,\n",
        "            landmark_list=results.left_hand_landmarks,\n",
        "            connections=mp_holistic.HAND_CONNECTIONS,\n",
        "            landmark_drawing_spec=mp_drawing.DrawingSpec(\n",
        "                color=(232, 254, 255), thickness=1, circle_radius=4\n",
        "            ),\n",
        "            connection_drawing_spec=mp_drawing.DrawingSpec(\n",
        "                color=(255, 249, 161), thickness=2, circle_radius=2\n",
        "            ),\n",
        "    )\n",
        "    # Draw right hand connections\n",
        "    image = mp_drawing.draw_landmarks(\n",
        "            image,\n",
        "            landmark_list=results.right_hand_landmarks,\n",
        "            connections=mp_holistic.HAND_CONNECTIONS,\n",
        "            landmark_drawing_spec=mp_drawing.DrawingSpec(\n",
        "                color=(232, 254, 255), thickness=1, circle_radius=4\n",
        "            ),\n",
        "            connection_drawing_spec=mp_drawing.DrawingSpec(\n",
        "                color=(255, 249, 161), thickness=2, circle_radius=2\n",
        "            ),\n",
        "    )\n",
        "    return image"
      ]
    },
    {
      "cell_type": "code",
      "execution_count": null,
      "metadata": {
        "id": "ngYcR6QB5kgW"
      },
      "outputs": [],
      "source": [
        "# --- HandModel class ---\n",
        "class HandModel:\n",
        "    def __init__(self, landmarks):\n",
        "        self.connections = mp.solutions.holistic.HAND_CONNECTIONS\n",
        "        landmarks = np.array(landmarks).reshape((21, 3))\n",
        "        self.feature_vector = self._get_feature_vector(landmarks)\n",
        "\n",
        "    def _get_connections_from_landmarks(self, landmarks):\n",
        "        return [landmarks[j] - landmarks[i] for (i, j) in self.connections]\n",
        "\n",
        "    def _get_feature_vector(self, landmarks):\n",
        "        vectors = self._get_connections_from_landmarks(landmarks)\n",
        "        angles = []\n",
        "        for v1 in vectors:\n",
        "            for v2 in vectors:\n",
        "                dot = np.dot(v1, v2)\n",
        "                norm = np.linalg.norm(v1) * np.linalg.norm(v2)\n",
        "                angle = np.arccos(dot / norm) if norm != 0 else 0\n",
        "                angles.append(angle if not np.isnan(angle) else 0)\n",
        "        return angles\n",
        "\n",
        "# --- Process each video ---\n",
        "def extract_hand_features_from_video(video_path, label):\n",
        "    mp_holistic = mp.solutions.holistic\n",
        "    cap = cv2.VideoCapture(video_path)\n",
        "\n",
        "    left_hand_list = []\n",
        "    right_hand_list = []\n",
        "\n",
        "    with mp_holistic.Holistic(static_image_mode=False) as holistic:\n",
        "        while cap.isOpened():\n",
        "            ret, frame = cap.read()\n",
        "            if not ret:\n",
        "                break\n",
        "\n",
        "            # Convert color and detect landmarks\n",
        "            image = cv2.cvtColor(frame, cv2.COLOR_BGR2RGB)\n",
        "            results = holistic.process(image)\n",
        "\n",
        "            # Extract hand landmarks (or zeros if not detected)\n",
        "            def extract_hand(landmarks):\n",
        "                if landmarks:\n",
        "                    return [[lm.x, lm.y, lm.z] for lm in landmarks.landmark]\n",
        "                else:\n",
        "                    return [[0, 0, 0]] * 21\n",
        "\n",
        "            left = extract_hand(results.left_hand_landmarks)\n",
        "            right = extract_hand(results.right_hand_landmarks)\n",
        "\n",
        "            # Convert to 441-dim vector or zero-vector\n",
        "            left_feat = HandModel(left).feature_vector if np.sum(left) != 0 else [0] * 441\n",
        "            right_feat = HandModel(right).feature_vector if np.sum(right) != 0 else [0] * 441\n",
        "\n",
        "            left_hand_list.append(left_feat)\n",
        "            right_hand_list.append(right_feat)\n",
        "\n",
        "    cap.release()\n",
        "    return {\n",
        "        \"left\": np.array(left_hand_list),\n",
        "        \"right\": np.array(right_hand_list),\n",
        "        \"label\": label\n",
        "    }"
      ]
    },
    {
      "cell_type": "code",
      "execution_count": null,
      "metadata": {
        "id": "0RWhsvzt5n8l"
      },
      "outputs": [],
      "source": [
        "root_dir = \"GRU Dataset/Videos\" # path to access videos dataset\n",
        "output_dir = \"GRU Dataset/hand_landmarks\" # path to save dataset\n",
        "os.makedirs(output_dir, exist_ok=True)\n",
        "\n",
        "for sign in tqdm(os.listdir(root_dir)):\n",
        "    sign_dir = os.path.join(root_dir, sign)\n",
        "    save_sign_dir = os.path.join(output_dir, sign)\n",
        "    os.makedirs(save_sign_dir, exist_ok=True)\n",
        "\n",
        "    for filename in os.listdir(sign_dir):\n",
        "        if filename.endswith(\".mkv\"):\n",
        "            video_path = os.path.join(sign_dir, filename)\n",
        "            features = extract_hand_features_from_video(video_path, label=filename.split(\".\")[0])\n",
        "            save_path = os.path.join(save_sign_dir, filename.replace(\".mkv\", \".npy\"))\n",
        "            np.save(save_path, features)"
      ]
    },
    {
      "cell_type": "code",
      "execution_count": null,
      "metadata": {
        "colab": {
          "base_uri": "https://localhost:8080/"
        },
        "id": "Wv6_kqD05Hk8",
        "outputId": "936eafc7-eb3f-4424-dad8-5bd7892ebe1d"
      },
      "outputs": [
        {
          "name": "stdout",
          "output_type": "stream",
          "text": [
            "Label order used: ['Congratulations' 'Excuse' 'Good-afternoon' 'Good-bye' 'Good-evening'\n",
            " 'Good-morning' 'Good-night' 'Happy-birthday' 'Hi,-hello' 'How-are-you'\n",
            " 'Name' 'No' 'Sorry' 'Thank-you' 'You-are-welcome']\n",
            "X[idx] file comes from label: Congratulations\n",
            "Encoded label one-hot: [1 0 0 0 0 0 0 0 0 0 0 0 0 0 0]\n",
            "Decoded label: Congratulations\n",
            "✅ X shape: (750, 30, 882)\n",
            "✅ y shape: (750, 15)\n"
          ]
        }
      ],
      "source": [
        "import numpy as np\n",
        "import glob\n",
        "import os\n",
        "from sklearn.preprocessing import LabelBinarizer\n",
        "\n",
        "# Helper function to process each .npy file\n",
        "def process_npy(path):\n",
        "    data = np.load(path, allow_pickle=True).item()\n",
        "    left = data['left']\n",
        "    right = data['right']\n",
        "\n",
        "    # Pad or truncate to 30 frames\n",
        "    n_frames = 30\n",
        "    def pad_sequence(seq):\n",
        "      seq = np.array(seq)\n",
        "      if seq.ndim == 1:\n",
        "        seq = np.expand_dims(seq, axis=0)  # shape (1, 441)\n",
        "      if seq.shape[0] < n_frames:\n",
        "        padding = np.zeros((n_frames - seq.shape[0], 441))\n",
        "        seq = np.concatenate([seq, padding])\n",
        "      else:\n",
        "        seq = seq[:n_frames]\n",
        "      return seq\n",
        "\n",
        "\n",
        "    left = pad_sequence(left)\n",
        "    right = pad_sequence(right)\n",
        "\n",
        "    # Combine left and right hand embeddings\n",
        "    sequence = np.concatenate([left, right], axis=-1)  # shape: (30, 882)\n",
        "    label = data['label'].split('_')[0]  # e.g., 'Congratulations' from 'Congratulations_00...'\n",
        "    return sequence, label\n",
        "\n",
        "# Collect data\n",
        "X = []\n",
        "labels = []\n",
        "\n",
        "for path in sorted(glob.glob(\"GRU Dataset/hand_landmarks/**/*.npy\", recursive=True)): # path to access hand_landmarks dataset\n",
        "    sequence, label = process_npy(path)\n",
        "    X.append(sequence)\n",
        "    labels.append(label)\n",
        "\n",
        "X = np.array(X)  # shape (750, 30, 882)\n",
        "\n",
        "# One-hot encode labels\n",
        "encoder = LabelBinarizer()\n",
        "y = encoder.fit_transform(labels)  # shape (750, 15)\n",
        "# Print the label order used by LabelBinarizer\n",
        "print(\"Label order used:\", encoder.classes_)\n",
        "\n",
        "# Check a sample\n",
        "idx = 0\n",
        "print(\"X[idx] file comes from label:\", labels[idx])  # original label\n",
        "print(\"Encoded label one-hot:\", y[idx])              # one-hot encoded\n",
        "print(\"Decoded label:\", encoder.inverse_transform(np.array([y[idx]]))[0])  # decoded back\n",
        "\n",
        "\n",
        "print(\"✅ X shape:\", X.shape)\n",
        "print(\"✅ y shape:\", y.shape)\n"
      ]
    },
    {
      "cell_type": "code",
      "execution_count": null,
      "metadata": {
        "colab": {
          "base_uri": "https://localhost:8080/"
        },
        "id": "ogyrAjt-6H_7",
        "outputId": "8bc5ecd7-4a23-4205-a4d0-4347d982c6dc"
      },
      "outputs": [
        {
          "name": "stdout",
          "output_type": "stream",
          "text": [
            "Original label: Name\n",
            "Encoded label one-hot: [0 0 0 0 0 0 0 0 0 0 1 0 0 0 0]\n",
            "Decoded label: Name\n"
          ]
        }
      ],
      "source": [
        "X_train, X_test, y_train, y_test, labels_train, labels_test = train_test_split(\n",
        "    X, y, labels, test_size=0.2, stratify=y, random_state=42)\n",
        "\n",
        "# Verify the alignment\n",
        "idx = 1\n",
        "print(\"Original label:\", labels_train[idx])  # original label\n",
        "print(\"Encoded label one-hot:\", y_train[idx])  # one-hot encoded\n",
        "print(\"Decoded label:\", encoder.inverse_transform(np.array([y_train[idx]]))[0])  # decoded label back to text"
      ]
    },
    {
      "cell_type": "markdown",
      "metadata": {
        "id": "BBJkoncS7x9-"
      },
      "source": [
        "# Inspection on X and y"
      ]
    },
    {
      "cell_type": "code",
      "execution_count": null,
      "metadata": {
        "colab": {
          "base_uri": "https://localhost:8080/"
        },
        "id": "CKASOk1i7wDf",
        "outputId": "45ca2849-43a5-4c59-97be-c47cf97fbed9"
      },
      "outputs": [
        {
          "name": "stdout",
          "output_type": "stream",
          "text": [
            "Shape of X: (750, 30, 882)\n",
            "First sequence (left hand and right hand combined) shape: (30, 882)\n",
            "First sequence (data):\n",
            " [[0.         0.         0.         ... 0.         0.         0.        ]\n",
            " [0.         0.         0.         ... 0.         0.         0.        ]\n",
            " [0.         0.         0.         ... 0.         0.         0.        ]\n",
            " ...\n",
            " [0.         0.         0.         ... 0.         0.         0.        ]\n",
            " [0.         0.18863386 2.21773203 ... 0.10121714 0.04432434 0.        ]\n",
            " [0.         0.         0.         ... 0.         0.         0.        ]]\n",
            "First label: Congratulations\n",
            "Unique labels: ['Congratulations' 'Excuse' 'Good-afternoon' 'Good-bye' 'Good-evening'\n",
            " 'Good-morning' 'Good-night' 'Happy-birthday' 'Hi,-hello' 'How-are-you'\n",
            " 'Name' 'No' 'Sorry' 'Thank-you' 'You-are-welcome']\n"
          ]
        }
      ],
      "source": [
        "# Inspect the shape and some content of the first few sequences in X\n",
        "print(\"Shape of X:\", X.shape)\n",
        "print(\"First sequence (left hand and right hand combined) shape:\", X[0].shape)\n",
        "print(\"First sequence (data):\\n\", X[0])\n",
        "\n",
        "# Check the label corresponding to the first sequence\n",
        "print(\"First label:\", labels[0])\n",
        "\n",
        "# Verify that labels match the corresponding sequences (e.g., 15 unique classes)\n",
        "print(\"Unique labels:\", np.unique(labels))"
      ]
    },
    {
      "cell_type": "code",
      "execution_count": null,
      "metadata": {
        "colab": {
          "base_uri": "https://localhost:8080/"
        },
        "id": "5VSk2IEc73A4",
        "outputId": "b66e8b9d-4035-41ea-ff8b-f546e16002c6"
      },
      "outputs": [
        {
          "name": "stdout",
          "output_type": "stream",
          "text": [
            "Shape of y: (750, 15)\n",
            "First sequence (left hand and right hand combined) shape: (15,)\n",
            "First sequence (data):\n",
            " [1 0 0 0 0 0 0 0 0 0 0 0 0 0 0]\n",
            "First label: Congratulations\n",
            "Unique labels: ['Congratulations' 'Excuse' 'Good-afternoon' 'Good-bye' 'Good-evening'\n",
            " 'Good-morning' 'Good-night' 'Happy-birthday' 'Hi,-hello' 'How-are-you'\n",
            " 'Name' 'No' 'Sorry' 'Thank-you' 'You-are-welcome']\n"
          ]
        }
      ],
      "source": [
        "# Inspect the shape and some content of the first few sequences in X\n",
        "print(\"Shape of y:\", y.shape)\n",
        "print(\"First sequence (left hand and right hand combined) shape:\", y[0].shape)\n",
        "print(\"First sequence (data):\\n\", y[0])\n",
        "\n",
        "# Check the label corresponding to the first sequence\n",
        "print(\"First label:\", labels[0])\n",
        "\n",
        "# Verify that labels match the corresponding sequences (e.g., 15 unique classes)\n",
        "print(\"Unique labels:\", np.unique(labels))"
      ]
    },
    {
      "cell_type": "code",
      "execution_count": null,
      "metadata": {
        "id": "W8cy8EFO746j"
      },
      "outputs": [],
      "source": [
        "import numpy as np\n",
        "\n",
        "# Saving the training and test data (features and labels) to .npy files\n",
        "np.save('GRU Dataset/X_train.npy', X_train) # path to save X_train file\n",
        "np.save('GRU Dataset/X_test.npy', X_test) # path to save X_test file\n",
        "np.save('GRU Dataset/y_train.npy', y_train) # path to save y_train file\n",
        "np.save('GRU Dataset/y_test.npy', y_test) # path to save y_test file\n",
        "\n",
        "# Saving the labels for training and testing (if needed)\n",
        "np.save('GRU Dataset/labels_train.npy', labels_train) # path to save labels_train file \n",
        "np.save('GRU Dataset/labels_test.npy', labels_test) # path to save labels_test file\n",
        "\n",
        "print(\"Data saved successfully!\")"
      ]
    },
    {
      "cell_type": "code",
      "execution_count": null,
      "metadata": {
        "colab": {
          "base_uri": "https://localhost:8080/"
        },
        "id": "NZfNb6EP7_t9",
        "outputId": "cc499acc-5653-4833-e073-c51402608bbc"
      },
      "outputs": [
        {
          "name": "stdout",
          "output_type": "stream",
          "text": [
            "labels_train length: 600\n",
            "labels_train sample: ['Good-bye', 'Name', 'Happy-birthday', 'Excuse', 'Sorry']\n"
          ]
        }
      ],
      "source": [
        "print(\"labels_train length:\", len(labels_train))\n",
        "print(\"labels_train sample:\", labels_train[:5])"
      ]
    },
    {
      "cell_type": "code",
      "execution_count": null,
      "metadata": {
        "colab": {
          "base_uri": "https://localhost:8080/"
        },
        "collapsed": true,
        "id": "wgZRWgxI8KD1",
        "outputId": "009ac1be-6dbd-4888-b1fe-cb9032b38892"
      },
      "outputs": [
        {
          "name": "stdout",
          "output_type": "stream",
          "text": [
            "Shape of X: (600, 30, 882)\n",
            "First sequence (left hand and right hand combined) shape: (30, 882)\n",
            "First sequence (data):\n",
            " [[0.00000000e+00 0.00000000e+00 0.00000000e+00 ... 0.00000000e+00\n",
            "  0.00000000e+00 0.00000000e+00]\n",
            " [0.00000000e+00 0.00000000e+00 0.00000000e+00 ... 0.00000000e+00\n",
            "  0.00000000e+00 0.00000000e+00]\n",
            " [0.00000000e+00 0.00000000e+00 0.00000000e+00 ... 0.00000000e+00\n",
            "  0.00000000e+00 0.00000000e+00]\n",
            " ...\n",
            " [0.00000000e+00 0.00000000e+00 0.00000000e+00 ... 1.99102011e-01\n",
            "  1.80539208e-02 2.10734243e-08]\n",
            " [0.00000000e+00 0.00000000e+00 0.00000000e+00 ... 1.99373491e-01\n",
            "  1.38549548e-02 0.00000000e+00]\n",
            " [0.00000000e+00 0.00000000e+00 0.00000000e+00 ... 2.08303783e-01\n",
            "  1.20770765e-02 0.00000000e+00]]\n",
            "First label: Good-bye\n",
            "First label in y_train:  [0 0 0 1 0 0 0 0 0 0 0 0 0 0 0]\n",
            "Unique labels: ['Congratulations' 'Excuse' 'Good-afternoon' 'Good-bye' 'Good-evening'\n",
            " 'Good-morning' 'Good-night' 'Happy-birthday' 'Hi,-hello' 'How-are-you'\n",
            " 'Name' 'No' 'Sorry' 'Thank-you' 'You-are-welcome']\n"
          ]
        }
      ],
      "source": [
        "# Inspect the shape and some content of the first few sequences in X\n",
        "print(\"Shape of X:\", X_train.shape)\n",
        "print(\"First sequence (left hand and right hand combined) shape:\", X_train[0].shape)\n",
        "print(\"First sequence (data):\\n\", X_train[0])\n",
        "\n",
        "# Check the label corresponding to the first sequence\n",
        "print(\"First label:\", labels_train[0])\n",
        "print(\"First label in y_train: \",y_train[0])\n",
        "\n",
        "# Verify that labels match the corresponding sequences (e.g., 15 unique classes)\n",
        "print(\"Unique labels:\", np.unique(labels))"
      ]
    },
    {
      "cell_type": "code",
      "execution_count": null,
      "metadata": {
        "colab": {
          "base_uri": "https://localhost:8080/"
        },
        "collapsed": true,
        "id": "5G1glZgK8Gi5",
        "outputId": "76ffe7c6-e7dd-42c9-f467-3ee3a62e8598"
      },
      "outputs": [
        {
          "name": "stdout",
          "output_type": "stream",
          "text": [
            "Shape of y: (600, 15)\n",
            "First sequence (left hand and right hand combined) shape: (15,)\n",
            "First sequence (data):\n",
            " [0 0 0 1 0 0 0 0 0 0 0 0 0 0 0]\n",
            "First label: Good-bye\n",
            "Unique labels: ['Congratulations' 'Excuse' 'Good-afternoon' 'Good-bye' 'Good-evening'\n",
            " 'Good-morning' 'Good-night' 'Happy-birthday' 'Hi,-hello' 'How-are-you'\n",
            " 'Name' 'No' 'Sorry' 'Thank-you' 'You-are-welcome']\n"
          ]
        }
      ],
      "source": [
        "# Inspect the shape and some content of the first few sequences in X\n",
        "print(\"Shape of y:\", y_train.shape)\n",
        "print(\"First sequence (left hand and right hand combined) shape:\", y_train[0].shape)\n",
        "print(\"First sequence (data):\\n\", y_train[0])\n",
        "\n",
        "# Check the label corresponding to the first sequence\n",
        "print(\"First label:\", labels_train[0])\n",
        "\n",
        "# Verify that labels match the corresponding sequences (e.g., 15 unique classes)\n",
        "print(\"Unique labels:\", np.unique(labels))"
      ]
    },
    {
      "cell_type": "code",
      "execution_count": null,
      "metadata": {
        "colab": {
          "base_uri": "https://localhost:8080/"
        },
        "collapsed": true,
        "id": "uDhQ_2es8MhV",
        "outputId": "0aa45d66-777e-4830-cf5f-970af10c4a34"
      },
      "outputs": [
        {
          "name": "stdout",
          "output_type": "stream",
          "text": [
            "Shape of X: (150, 30, 882)\n",
            "First sequence (left hand and right hand combined) shape: (30, 882)\n",
            "First sequence (data):\n",
            " [[0.00000000e+00 0.00000000e+00 0.00000000e+00 ... 0.00000000e+00\n",
            "  0.00000000e+00 0.00000000e+00]\n",
            " [0.00000000e+00 0.00000000e+00 0.00000000e+00 ... 0.00000000e+00\n",
            "  0.00000000e+00 0.00000000e+00]\n",
            " [0.00000000e+00 0.00000000e+00 0.00000000e+00 ... 0.00000000e+00\n",
            "  0.00000000e+00 0.00000000e+00]\n",
            " ...\n",
            " [2.10734243e-08 3.03998786e-01 1.38895722e+00 ... 1.75888413e+00\n",
            "  4.33582060e-01 0.00000000e+00]\n",
            " [0.00000000e+00 3.94697377e-01 8.72727391e-01 ... 0.00000000e+00\n",
            "  0.00000000e+00 0.00000000e+00]\n",
            " [0.00000000e+00 4.72851941e-01 7.87183823e-01 ... 0.00000000e+00\n",
            "  0.00000000e+00 0.00000000e+00]]\n",
            "First label: Congratulations\n",
            "Unique labels: ['Congratulations' 'Excuse' 'Good-afternoon' 'Good-bye' 'Good-evening'\n",
            " 'Good-morning' 'Good-night' 'Happy-birthday' 'Hi,-hello' 'How-are-you'\n",
            " 'Name' 'No' 'Sorry' 'Thank-you' 'You-are-welcome']\n"
          ]
        }
      ],
      "source": [
        "# Inspect the shape and some content of the first few sequences in X\n",
        "print(\"Shape of X:\", X_test.shape)\n",
        "print(\"First sequence (left hand and right hand combined) shape:\", X_test[0].shape)\n",
        "print(\"First sequence (data):\\n\", X_test[0])\n",
        "\n",
        "# Check the label corresponding to the first sequence\n",
        "print(\"First label:\", labels_test[0])\n",
        "\n",
        "# Verify that labels match the corresponding sequences (e.g., 15 unique classes)\n",
        "print(\"Unique labels:\", np.unique(labels))"
      ]
    },
    {
      "cell_type": "code",
      "execution_count": null,
      "metadata": {
        "colab": {
          "base_uri": "https://localhost:8080/"
        },
        "collapsed": true,
        "id": "hQeggVqB8B-z",
        "outputId": "ecc2d73b-a8ae-4c75-e01d-1c9ce902f818"
      },
      "outputs": [
        {
          "name": "stdout",
          "output_type": "stream",
          "text": [
            "Shape of y: (150, 15)\n",
            "First sequence (left hand and right hand combined) shape: (15,)\n",
            "First sequence (data):\n",
            " [1 0 0 0 0 0 0 0 0 0 0 0 0 0 0]\n",
            "First label: Congratulations\n",
            "Unique labels: ['Congratulations' 'Excuse' 'Good-afternoon' 'Good-bye' 'Good-evening'\n",
            " 'Good-morning' 'Good-night' 'Happy-birthday' 'Hi,-hello' 'How-are-you'\n",
            " 'Name' 'No' 'Sorry' 'Thank-you' 'You-are-welcome']\n"
          ]
        }
      ],
      "source": [
        "# Inspect the shape and some content of the first few sequences in X\n",
        "print(\"Shape of y:\", y_test.shape)\n",
        "print(\"First sequence (left hand and right hand combined) shape:\", y_test[0].shape)\n",
        "print(\"First sequence (data):\\n\", y_test[0])\n",
        "\n",
        "# Check the label corresponding to the first sequence\n",
        "print(\"First label:\", labels_test[0])\n",
        "\n",
        "# Verify that labels match the corresponding sequences (e.g., 15 unique classes)\n",
        "print(\"Unique labels:\", np.unique(labels))"
      ]
    },
    {
      "cell_type": "markdown",
      "metadata": {
        "id": "8uGQXZHH8TaQ"
      },
      "source": [
        "# Build and Train GRU model"
      ]
    },
    {
      "cell_type": "code",
      "execution_count": null,
      "metadata": {
        "id": "tnsowUAf8SGO"
      },
      "outputs": [],
      "source": [
        "from tensorflow.keras.models import Sequential\n",
        "from tensorflow.keras.layers import Masking, LSTM, Dense, Input, Dropout, BatchNormalization, LeakyReLU, GRU\n",
        "from tensorflow.keras.callbacks import TensorBoard\n",
        "import tensorflow as tf"
      ]
    },
    {
      "cell_type": "code",
      "execution_count": null,
      "metadata": {
        "colab": {
          "base_uri": "https://localhost:8080/"
        },
        "id": "C6X_m0JZ8Yf8",
        "outputId": "0636d471-e80d-4c7a-98b7-34adda06823f"
      },
      "outputs": [
        {
          "name": "stderr",
          "output_type": "stream",
          "text": [
            "/usr/local/lib/python3.11/dist-packages/keras/src/layers/core/masking.py:47: UserWarning: Do not pass an `input_shape`/`input_dim` argument to a layer. When using Sequential models, prefer using an `Input(shape)` object as the first layer in the model instead.\n",
            "  super().__init__(**kwargs)\n"
          ]
        }
      ],
      "source": [
        "model_GRU = Sequential([\n",
        "    Masking(mask_value=0.0, input_shape=(30, 882)),\n",
        "    GRU(64, return_sequences=False, activation='tanh',\n",
        "        kernel_regularizer=tf.keras.regularizers.L2(l2=0.044),\n",
        "        recurrent_regularizer=tf.keras.regularizers.L2(l2=0.014)),\n",
        "        Dense(64, kernel_regularizer=tf.keras.regularizers.L2(l2=0.027)),\n",
        "        BatchNormalization(),\n",
        "        LeakyReLU(),\n",
        "        Dense(32, kernel_regularizer=tf.keras.regularizers.L2(l2=0.027)),\n",
        "        BatchNormalization(),\n",
        "        LeakyReLU(),\n",
        "        Dense(15, activation='softmax')\n",
        "])"
      ]
    },
    {
      "cell_type": "code",
      "execution_count": null,
      "metadata": {
        "id": "RgfTVv7f8eWm"
      },
      "outputs": [],
      "source": [
        "# Essential\n",
        "# learning rate decay, used it because the loss was abruptly increasing while fitting the model, which\n",
        "# meant that learning rate was note small enough\n",
        "# PS. The problem was alleviated more after implementing batch normalization\n",
        "lr_schedule = tf.keras.optimizers.schedules.InverseTimeDecay(\n",
        "    initial_learning_rate= 0.002 ,\n",
        "    decay_steps=8,\n",
        "    decay_rate=0.5,\n",
        "    staircase=False)"
      ]
    },
    {
      "cell_type": "code",
      "execution_count": null,
      "metadata": {
        "id": "LkbcYPAa8fy1"
      },
      "outputs": [],
      "source": [
        "model_GRU.compile(optimizer= tf.optimizers.Adam(learning_rate=lr_schedule), loss='categorical_crossentropy', metrics=['categorical_accuracy'])"
      ]
    },
    {
      "cell_type": "code",
      "execution_count": null,
      "metadata": {
        "colab": {
          "base_uri": "https://localhost:8080/",
          "height": 457
        },
        "id": "w_remaVc8htd",
        "outputId": "b84249b3-f610-44a6-c381-1298efce10f7"
      },
      "outputs": [
        {
          "data": {
            "text/html": [
              "<pre style=\"white-space:pre;overflow-x:auto;line-height:normal;font-family:Menlo,'DejaVu Sans Mono',consolas,'Courier New',monospace\"><span style=\"font-weight: bold\">Model: \"sequential_1\"</span>\n",
              "</pre>\n"
            ],
            "text/plain": [
              "\u001b[1mModel: \"sequential_1\"\u001b[0m\n"
            ]
          },
          "metadata": {},
          "output_type": "display_data"
        },
        {
          "data": {
            "text/html": [
              "<pre style=\"white-space:pre;overflow-x:auto;line-height:normal;font-family:Menlo,'DejaVu Sans Mono',consolas,'Courier New',monospace\">┏━━━━━━━━━━━━━━━━━━━━━━━━━━━━━━━━━┳━━━━━━━━━━━━━━━━━━━━━━━━┳━━━━━━━━━━━━━━━┓\n",
              "┃<span style=\"font-weight: bold\"> Layer (type)                    </span>┃<span style=\"font-weight: bold\"> Output Shape           </span>┃<span style=\"font-weight: bold\">       Param # </span>┃\n",
              "┡━━━━━━━━━━━━━━━━━━━━━━━━━━━━━━━━━╇━━━━━━━━━━━━━━━━━━━━━━━━╇━━━━━━━━━━━━━━━┩\n",
              "│ masking_1 (<span style=\"color: #0087ff; text-decoration-color: #0087ff\">Masking</span>)             │ (<span style=\"color: #00d7ff; text-decoration-color: #00d7ff\">None</span>, <span style=\"color: #00af00; text-decoration-color: #00af00\">30</span>, <span style=\"color: #00af00; text-decoration-color: #00af00\">882</span>)        │             <span style=\"color: #00af00; text-decoration-color: #00af00\">0</span> │\n",
              "├─────────────────────────────────┼────────────────────────┼───────────────┤\n",
              "│ gru_1 (<span style=\"color: #0087ff; text-decoration-color: #0087ff\">GRU</span>)                     │ (<span style=\"color: #00d7ff; text-decoration-color: #00d7ff\">None</span>, <span style=\"color: #00af00; text-decoration-color: #00af00\">64</span>)             │       <span style=\"color: #00af00; text-decoration-color: #00af00\">182,016</span> │\n",
              "├─────────────────────────────────┼────────────────────────┼───────────────┤\n",
              "│ dense_3 (<span style=\"color: #0087ff; text-decoration-color: #0087ff\">Dense</span>)                 │ (<span style=\"color: #00d7ff; text-decoration-color: #00d7ff\">None</span>, <span style=\"color: #00af00; text-decoration-color: #00af00\">64</span>)             │         <span style=\"color: #00af00; text-decoration-color: #00af00\">4,160</span> │\n",
              "├─────────────────────────────────┼────────────────────────┼───────────────┤\n",
              "│ batch_normalization_2           │ (<span style=\"color: #00d7ff; text-decoration-color: #00d7ff\">None</span>, <span style=\"color: #00af00; text-decoration-color: #00af00\">64</span>)             │           <span style=\"color: #00af00; text-decoration-color: #00af00\">256</span> │\n",
              "│ (<span style=\"color: #0087ff; text-decoration-color: #0087ff\">BatchNormalization</span>)            │                        │               │\n",
              "├─────────────────────────────────┼────────────────────────┼───────────────┤\n",
              "│ leaky_re_lu_2 (<span style=\"color: #0087ff; text-decoration-color: #0087ff\">LeakyReLU</span>)       │ (<span style=\"color: #00d7ff; text-decoration-color: #00d7ff\">None</span>, <span style=\"color: #00af00; text-decoration-color: #00af00\">64</span>)             │             <span style=\"color: #00af00; text-decoration-color: #00af00\">0</span> │\n",
              "├─────────────────────────────────┼────────────────────────┼───────────────┤\n",
              "│ dense_4 (<span style=\"color: #0087ff; text-decoration-color: #0087ff\">Dense</span>)                 │ (<span style=\"color: #00d7ff; text-decoration-color: #00d7ff\">None</span>, <span style=\"color: #00af00; text-decoration-color: #00af00\">32</span>)             │         <span style=\"color: #00af00; text-decoration-color: #00af00\">2,080</span> │\n",
              "├─────────────────────────────────┼────────────────────────┼───────────────┤\n",
              "│ batch_normalization_3           │ (<span style=\"color: #00d7ff; text-decoration-color: #00d7ff\">None</span>, <span style=\"color: #00af00; text-decoration-color: #00af00\">32</span>)             │           <span style=\"color: #00af00; text-decoration-color: #00af00\">128</span> │\n",
              "│ (<span style=\"color: #0087ff; text-decoration-color: #0087ff\">BatchNormalization</span>)            │                        │               │\n",
              "├─────────────────────────────────┼────────────────────────┼───────────────┤\n",
              "│ leaky_re_lu_3 (<span style=\"color: #0087ff; text-decoration-color: #0087ff\">LeakyReLU</span>)       │ (<span style=\"color: #00d7ff; text-decoration-color: #00d7ff\">None</span>, <span style=\"color: #00af00; text-decoration-color: #00af00\">32</span>)             │             <span style=\"color: #00af00; text-decoration-color: #00af00\">0</span> │\n",
              "├─────────────────────────────────┼────────────────────────┼───────────────┤\n",
              "│ dense_5 (<span style=\"color: #0087ff; text-decoration-color: #0087ff\">Dense</span>)                 │ (<span style=\"color: #00d7ff; text-decoration-color: #00d7ff\">None</span>, <span style=\"color: #00af00; text-decoration-color: #00af00\">15</span>)             │           <span style=\"color: #00af00; text-decoration-color: #00af00\">495</span> │\n",
              "└─────────────────────────────────┴────────────────────────┴───────────────┘\n",
              "</pre>\n"
            ],
            "text/plain": [
              "┏━━━━━━━━━━━━━━━━━━━━━━━━━━━━━━━━━┳━━━━━━━━━━━━━━━━━━━━━━━━┳━━━━━━━━━━━━━━━┓\n",
              "┃\u001b[1m \u001b[0m\u001b[1mLayer (type)                   \u001b[0m\u001b[1m \u001b[0m┃\u001b[1m \u001b[0m\u001b[1mOutput Shape          \u001b[0m\u001b[1m \u001b[0m┃\u001b[1m \u001b[0m\u001b[1m      Param #\u001b[0m\u001b[1m \u001b[0m┃\n",
              "┡━━━━━━━━━━━━━━━━━━━━━━━━━━━━━━━━━╇━━━━━━━━━━━━━━━━━━━━━━━━╇━━━━━━━━━━━━━━━┩\n",
              "│ masking_1 (\u001b[38;5;33mMasking\u001b[0m)             │ (\u001b[38;5;45mNone\u001b[0m, \u001b[38;5;34m30\u001b[0m, \u001b[38;5;34m882\u001b[0m)        │             \u001b[38;5;34m0\u001b[0m │\n",
              "├─────────────────────────────────┼────────────────────────┼───────────────┤\n",
              "│ gru_1 (\u001b[38;5;33mGRU\u001b[0m)                     │ (\u001b[38;5;45mNone\u001b[0m, \u001b[38;5;34m64\u001b[0m)             │       \u001b[38;5;34m182,016\u001b[0m │\n",
              "├─────────────────────────────────┼────────────────────────┼───────────────┤\n",
              "│ dense_3 (\u001b[38;5;33mDense\u001b[0m)                 │ (\u001b[38;5;45mNone\u001b[0m, \u001b[38;5;34m64\u001b[0m)             │         \u001b[38;5;34m4,160\u001b[0m │\n",
              "├─────────────────────────────────┼────────────────────────┼───────────────┤\n",
              "│ batch_normalization_2           │ (\u001b[38;5;45mNone\u001b[0m, \u001b[38;5;34m64\u001b[0m)             │           \u001b[38;5;34m256\u001b[0m │\n",
              "│ (\u001b[38;5;33mBatchNormalization\u001b[0m)            │                        │               │\n",
              "├─────────────────────────────────┼────────────────────────┼───────────────┤\n",
              "│ leaky_re_lu_2 (\u001b[38;5;33mLeakyReLU\u001b[0m)       │ (\u001b[38;5;45mNone\u001b[0m, \u001b[38;5;34m64\u001b[0m)             │             \u001b[38;5;34m0\u001b[0m │\n",
              "├─────────────────────────────────┼────────────────────────┼───────────────┤\n",
              "│ dense_4 (\u001b[38;5;33mDense\u001b[0m)                 │ (\u001b[38;5;45mNone\u001b[0m, \u001b[38;5;34m32\u001b[0m)             │         \u001b[38;5;34m2,080\u001b[0m │\n",
              "├─────────────────────────────────┼────────────────────────┼───────────────┤\n",
              "│ batch_normalization_3           │ (\u001b[38;5;45mNone\u001b[0m, \u001b[38;5;34m32\u001b[0m)             │           \u001b[38;5;34m128\u001b[0m │\n",
              "│ (\u001b[38;5;33mBatchNormalization\u001b[0m)            │                        │               │\n",
              "├─────────────────────────────────┼────────────────────────┼───────────────┤\n",
              "│ leaky_re_lu_3 (\u001b[38;5;33mLeakyReLU\u001b[0m)       │ (\u001b[38;5;45mNone\u001b[0m, \u001b[38;5;34m32\u001b[0m)             │             \u001b[38;5;34m0\u001b[0m │\n",
              "├─────────────────────────────────┼────────────────────────┼───────────────┤\n",
              "│ dense_5 (\u001b[38;5;33mDense\u001b[0m)                 │ (\u001b[38;5;45mNone\u001b[0m, \u001b[38;5;34m15\u001b[0m)             │           \u001b[38;5;34m495\u001b[0m │\n",
              "└─────────────────────────────────┴────────────────────────┴───────────────┘\n"
            ]
          },
          "metadata": {},
          "output_type": "display_data"
        },
        {
          "data": {
            "text/html": [
              "<pre style=\"white-space:pre;overflow-x:auto;line-height:normal;font-family:Menlo,'DejaVu Sans Mono',consolas,'Courier New',monospace\"><span style=\"font-weight: bold\"> Total params: </span><span style=\"color: #00af00; text-decoration-color: #00af00\">189,135</span> (738.81 KB)\n",
              "</pre>\n"
            ],
            "text/plain": [
              "\u001b[1m Total params: \u001b[0m\u001b[38;5;34m189,135\u001b[0m (738.81 KB)\n"
            ]
          },
          "metadata": {},
          "output_type": "display_data"
        },
        {
          "data": {
            "text/html": [
              "<pre style=\"white-space:pre;overflow-x:auto;line-height:normal;font-family:Menlo,'DejaVu Sans Mono',consolas,'Courier New',monospace\"><span style=\"font-weight: bold\"> Trainable params: </span><span style=\"color: #00af00; text-decoration-color: #00af00\">188,943</span> (738.06 KB)\n",
              "</pre>\n"
            ],
            "text/plain": [
              "\u001b[1m Trainable params: \u001b[0m\u001b[38;5;34m188,943\u001b[0m (738.06 KB)\n"
            ]
          },
          "metadata": {},
          "output_type": "display_data"
        },
        {
          "data": {
            "text/html": [
              "<pre style=\"white-space:pre;overflow-x:auto;line-height:normal;font-family:Menlo,'DejaVu Sans Mono',consolas,'Courier New',monospace\"><span style=\"font-weight: bold\"> Non-trainable params: </span><span style=\"color: #00af00; text-decoration-color: #00af00\">192</span> (768.00 B)\n",
              "</pre>\n"
            ],
            "text/plain": [
              "\u001b[1m Non-trainable params: \u001b[0m\u001b[38;5;34m192\u001b[0m (768.00 B)\n"
            ]
          },
          "metadata": {},
          "output_type": "display_data"
        }
      ],
      "source": [
        "model_GRU.summary()"
      ]
    },
    {
      "cell_type": "code",
      "execution_count": null,
      "metadata": {
        "colab": {
          "base_uri": "https://localhost:8080/"
        },
        "id": "XMcNadWg8ipq",
        "outputId": "bb43e18a-17b8-4f7c-ec57-abdba0ce06e4"
      },
      "outputs": [
        {
          "name": "stdout",
          "output_type": "stream",
          "text": [
            "Epoch 1/150\n",
            "\u001b[1m9/9\u001b[0m \u001b[32m━━━━━━━━━━━━━━━━━━━━\u001b[0m\u001b[37m\u001b[0m \u001b[1m11s\u001b[0m 291ms/step - categorical_accuracy: 0.1669 - loss: 20.5397 - val_categorical_accuracy: 0.1220 - val_loss: 15.7373\n",
            "Epoch 2/150\n",
            "\u001b[1m9/9\u001b[0m \u001b[32m━━━━━━━━━━━━━━━━━━━━\u001b[0m\u001b[37m\u001b[0m \u001b[1m1s\u001b[0m 89ms/step - categorical_accuracy: 0.3676 - loss: 15.5323 - val_categorical_accuracy: 0.1951 - val_loss: 13.0235\n",
            "Epoch 3/150\n",
            "\u001b[1m9/9\u001b[0m \u001b[32m━━━━━━━━━━━━━━━━━━━━\u001b[0m\u001b[37m\u001b[0m \u001b[1m1s\u001b[0m 83ms/step - categorical_accuracy: 0.4905 - loss: 12.8025 - val_categorical_accuracy: 0.1707 - val_loss: 11.3307\n",
            "Epoch 4/150\n",
            "\u001b[1m9/9\u001b[0m \u001b[32m━━━━━━━━━━━━━━━━━━━━\u001b[0m\u001b[37m\u001b[0m \u001b[1m1s\u001b[0m 89ms/step - categorical_accuracy: 0.5381 - loss: 11.1192 - val_categorical_accuracy: 0.1707 - val_loss: 10.2027\n",
            "Epoch 5/150\n",
            "\u001b[1m9/9\u001b[0m \u001b[32m━━━━━━━━━━━━━━━━━━━━\u001b[0m\u001b[37m\u001b[0m \u001b[1m1s\u001b[0m 82ms/step - categorical_accuracy: 0.5638 - loss: 10.1065 - val_categorical_accuracy: 0.1707 - val_loss: 9.4181\n",
            "Epoch 6/150\n",
            "\u001b[1m9/9\u001b[0m \u001b[32m━━━━━━━━━━━━━━━━━━━━\u001b[0m\u001b[37m\u001b[0m \u001b[1m1s\u001b[0m 85ms/step - categorical_accuracy: 0.6094 - loss: 9.1334 - val_categorical_accuracy: 0.1707 - val_loss: 8.8489\n",
            "Epoch 7/150\n",
            "\u001b[1m9/9\u001b[0m \u001b[32m━━━━━━━━━━━━━━━━━━━━\u001b[0m\u001b[37m\u001b[0m \u001b[1m1s\u001b[0m 88ms/step - categorical_accuracy: 0.6112 - loss: 8.5377 - val_categorical_accuracy: 0.3171 - val_loss: 8.3307\n",
            "Epoch 8/150\n",
            "\u001b[1m9/9\u001b[0m \u001b[32m━━━━━━━━━━━━━━━━━━━━\u001b[0m\u001b[37m\u001b[0m \u001b[1m1s\u001b[0m 88ms/step - categorical_accuracy: 0.6903 - loss: 8.0135 - val_categorical_accuracy: 0.2927 - val_loss: 7.9969\n",
            "Epoch 9/150\n",
            "\u001b[1m9/9\u001b[0m \u001b[32m━━━━━━━━━━━━━━━━━━━━\u001b[0m\u001b[37m\u001b[0m \u001b[1m1s\u001b[0m 113ms/step - categorical_accuracy: 0.7152 - loss: 7.5892 - val_categorical_accuracy: 0.3902 - val_loss: 7.6600\n",
            "Epoch 10/150\n",
            "\u001b[1m9/9\u001b[0m \u001b[32m━━━━━━━━━━━━━━━━━━━━\u001b[0m\u001b[37m\u001b[0m \u001b[1m1s\u001b[0m 150ms/step - categorical_accuracy: 0.6887 - loss: 7.3735 - val_categorical_accuracy: 0.3415 - val_loss: 7.3952\n",
            "Epoch 11/150\n",
            "\u001b[1m9/9\u001b[0m \u001b[32m━━━━━━━━━━━━━━━━━━━━\u001b[0m\u001b[37m\u001b[0m \u001b[1m1s\u001b[0m 160ms/step - categorical_accuracy: 0.7229 - loss: 7.0938 - val_categorical_accuracy: 0.4878 - val_loss: 7.1988\n",
            "Epoch 12/150\n",
            "\u001b[1m9/9\u001b[0m \u001b[32m━━━━━━━━━━━━━━━━━━━━\u001b[0m\u001b[37m\u001b[0m \u001b[1m1s\u001b[0m 140ms/step - categorical_accuracy: 0.7701 - loss: 6.7241 - val_categorical_accuracy: 0.5122 - val_loss: 6.9865\n",
            "Epoch 13/150\n",
            "\u001b[1m9/9\u001b[0m \u001b[32m━━━━━━━━━━━━━━━━━━━━\u001b[0m\u001b[37m\u001b[0m \u001b[1m1s\u001b[0m 85ms/step - categorical_accuracy: 0.7523 - loss: 6.5183 - val_categorical_accuracy: 0.5122 - val_loss: 6.8508\n",
            "Epoch 14/150\n",
            "\u001b[1m9/9\u001b[0m \u001b[32m━━━━━━━━━━━━━━━━━━━━\u001b[0m\u001b[37m\u001b[0m \u001b[1m1s\u001b[0m 91ms/step - categorical_accuracy: 0.7529 - loss: 6.3771 - val_categorical_accuracy: 0.5854 - val_loss: 6.6672\n",
            "Epoch 15/150\n",
            "\u001b[1m9/9\u001b[0m \u001b[32m━━━━━━━━━━━━━━━━━━━━\u001b[0m\u001b[37m\u001b[0m \u001b[1m1s\u001b[0m 88ms/step - categorical_accuracy: 0.7418 - loss: 6.2723 - val_categorical_accuracy: 0.5854 - val_loss: 6.4873\n",
            "Epoch 16/150\n",
            "\u001b[1m9/9\u001b[0m \u001b[32m━━━━━━━━━━━━━━━━━━━━\u001b[0m\u001b[37m\u001b[0m \u001b[1m1s\u001b[0m 83ms/step - categorical_accuracy: 0.7697 - loss: 6.0709 - val_categorical_accuracy: 0.6098 - val_loss: 6.3805\n",
            "Epoch 17/150\n",
            "\u001b[1m9/9\u001b[0m \u001b[32m━━━━━━━━━━━━━━━━━━━━\u001b[0m\u001b[37m\u001b[0m \u001b[1m1s\u001b[0m 81ms/step - categorical_accuracy: 0.7991 - loss: 5.9028 - val_categorical_accuracy: 0.6098 - val_loss: 6.2905\n",
            "Epoch 18/150\n",
            "\u001b[1m9/9\u001b[0m \u001b[32m━━━━━━━━━━━━━━━━━━━━\u001b[0m\u001b[37m\u001b[0m \u001b[1m1s\u001b[0m 85ms/step - categorical_accuracy: 0.7937 - loss: 5.7818 - val_categorical_accuracy: 0.6098 - val_loss: 6.1557\n",
            "Epoch 19/150\n",
            "\u001b[1m9/9\u001b[0m \u001b[32m━━━━━━━━━━━━━━━━━━━━\u001b[0m\u001b[37m\u001b[0m \u001b[1m1s\u001b[0m 95ms/step - categorical_accuracy: 0.7902 - loss: 5.7309 - val_categorical_accuracy: 0.5854 - val_loss: 6.0475\n",
            "Epoch 20/150\n",
            "\u001b[1m9/9\u001b[0m \u001b[32m━━━━━━━━━━━━━━━━━━━━\u001b[0m\u001b[37m\u001b[0m \u001b[1m1s\u001b[0m 87ms/step - categorical_accuracy: 0.8039 - loss: 5.5894 - val_categorical_accuracy: 0.5854 - val_loss: 5.9482\n",
            "Epoch 21/150\n",
            "\u001b[1m9/9\u001b[0m \u001b[32m━━━━━━━━━━━━━━━━━━━━\u001b[0m\u001b[37m\u001b[0m \u001b[1m1s\u001b[0m 82ms/step - categorical_accuracy: 0.8248 - loss: 5.4472 - val_categorical_accuracy: 0.5854 - val_loss: 5.8586\n",
            "Epoch 22/150\n",
            "\u001b[1m9/9\u001b[0m \u001b[32m━━━━━━━━━━━━━━━━━━━━\u001b[0m\u001b[37m\u001b[0m \u001b[1m1s\u001b[0m 77ms/step - categorical_accuracy: 0.8187 - loss: 5.4518 - val_categorical_accuracy: 0.6341 - val_loss: 5.7791\n",
            "Epoch 23/150\n",
            "\u001b[1m9/9\u001b[0m \u001b[32m━━━━━━━━━━━━━━━━━━━━\u001b[0m\u001b[37m\u001b[0m \u001b[1m2s\u001b[0m 157ms/step - categorical_accuracy: 0.8260 - loss: 5.3560 - val_categorical_accuracy: 0.5854 - val_loss: 5.6934\n",
            "Epoch 24/150\n",
            "\u001b[1m9/9\u001b[0m \u001b[32m━━━━━━━━━━━━━━━━━━━━\u001b[0m\u001b[37m\u001b[0m \u001b[1m1s\u001b[0m 154ms/step - categorical_accuracy: 0.8232 - loss: 5.2251 - val_categorical_accuracy: 0.6098 - val_loss: 5.6114\n",
            "Epoch 25/150\n",
            "\u001b[1m9/9\u001b[0m \u001b[32m━━━━━━━━━━━━━━━━━━━━\u001b[0m\u001b[37m\u001b[0m \u001b[1m2s\u001b[0m 85ms/step - categorical_accuracy: 0.8314 - loss: 5.2029 - val_categorical_accuracy: 0.6585 - val_loss: 5.5228\n",
            "Epoch 26/150\n",
            "\u001b[1m9/9\u001b[0m \u001b[32m━━━━━━━━━━━━━━━━━━━━\u001b[0m\u001b[37m\u001b[0m \u001b[1m1s\u001b[0m 87ms/step - categorical_accuracy: 0.8274 - loss: 5.1209 - val_categorical_accuracy: 0.6829 - val_loss: 5.4544\n",
            "Epoch 27/150\n",
            "\u001b[1m9/9\u001b[0m \u001b[32m━━━━━━━━━━━━━━━━━━━━\u001b[0m\u001b[37m\u001b[0m \u001b[1m1s\u001b[0m 77ms/step - categorical_accuracy: 0.8370 - loss: 5.0516 - val_categorical_accuracy: 0.6341 - val_loss: 5.4017\n",
            "Epoch 28/150\n",
            "\u001b[1m9/9\u001b[0m \u001b[32m━━━━━━━━━━━━━━━━━━━━\u001b[0m\u001b[37m\u001b[0m \u001b[1m1s\u001b[0m 81ms/step - categorical_accuracy: 0.8381 - loss: 4.9827 - val_categorical_accuracy: 0.6585 - val_loss: 5.3018\n",
            "Epoch 29/150\n",
            "\u001b[1m9/9\u001b[0m \u001b[32m━━━━━━━━━━━━━━━━━━━━\u001b[0m\u001b[37m\u001b[0m \u001b[1m1s\u001b[0m 84ms/step - categorical_accuracy: 0.8559 - loss: 4.9500 - val_categorical_accuracy: 0.6829 - val_loss: 5.2586\n",
            "Epoch 30/150\n",
            "\u001b[1m9/9\u001b[0m \u001b[32m━━━━━━━━━━━━━━━━━━━━\u001b[0m\u001b[37m\u001b[0m \u001b[1m1s\u001b[0m 89ms/step - categorical_accuracy: 0.8498 - loss: 4.8270 - val_categorical_accuracy: 0.6585 - val_loss: 5.2066\n",
            "Epoch 31/150\n",
            "\u001b[1m9/9\u001b[0m \u001b[32m━━━━━━━━━━━━━━━━━━━━\u001b[0m\u001b[37m\u001b[0m \u001b[1m1s\u001b[0m 83ms/step - categorical_accuracy: 0.8504 - loss: 4.8168 - val_categorical_accuracy: 0.7317 - val_loss: 5.1026\n",
            "Epoch 32/150\n",
            "\u001b[1m9/9\u001b[0m \u001b[32m━━━━━━━━━━━━━━━━━━━━\u001b[0m\u001b[37m\u001b[0m \u001b[1m1s\u001b[0m 88ms/step - categorical_accuracy: 0.8524 - loss: 4.8039 - val_categorical_accuracy: 0.6829 - val_loss: 5.0552\n",
            "Epoch 33/150\n",
            "\u001b[1m9/9\u001b[0m \u001b[32m━━━━━━━━━━━━━━━━━━━━\u001b[0m\u001b[37m\u001b[0m \u001b[1m1s\u001b[0m 86ms/step - categorical_accuracy: 0.8651 - loss: 4.7296 - val_categorical_accuracy: 0.7317 - val_loss: 5.0035\n",
            "Epoch 34/150\n",
            "\u001b[1m9/9\u001b[0m \u001b[32m━━━━━━━━━━━━━━━━━━━━\u001b[0m\u001b[37m\u001b[0m \u001b[1m1s\u001b[0m 85ms/step - categorical_accuracy: 0.8622 - loss: 4.7036 - val_categorical_accuracy: 0.7561 - val_loss: 4.9690\n",
            "Epoch 35/150\n",
            "\u001b[1m9/9\u001b[0m \u001b[32m━━━━━━━━━━━━━━━━━━━━\u001b[0m\u001b[37m\u001b[0m \u001b[1m1s\u001b[0m 127ms/step - categorical_accuracy: 0.8725 - loss: 4.6880 - val_categorical_accuracy: 0.7317 - val_loss: 4.8803\n",
            "Epoch 36/150\n",
            "\u001b[1m9/9\u001b[0m \u001b[32m━━━━━━━━━━━━━━━━━━━━\u001b[0m\u001b[37m\u001b[0m \u001b[1m1s\u001b[0m 147ms/step - categorical_accuracy: 0.8595 - loss: 4.6450 - val_categorical_accuracy: 0.7561 - val_loss: 4.8241\n",
            "Epoch 37/150\n",
            "\u001b[1m9/9\u001b[0m \u001b[32m━━━━━━━━━━━━━━━━━━━━\u001b[0m\u001b[37m\u001b[0m \u001b[1m1s\u001b[0m 161ms/step - categorical_accuracy: 0.8794 - loss: 4.5403 - val_categorical_accuracy: 0.7561 - val_loss: 4.8095\n",
            "Epoch 38/150\n",
            "\u001b[1m9/9\u001b[0m \u001b[32m━━━━━━━━━━━━━━━━━━━━\u001b[0m\u001b[37m\u001b[0m \u001b[1m1s\u001b[0m 111ms/step - categorical_accuracy: 0.8819 - loss: 4.5266 - val_categorical_accuracy: 0.7805 - val_loss: 4.7346\n",
            "Epoch 39/150\n",
            "\u001b[1m9/9\u001b[0m \u001b[32m━━━━━━━━━━━━━━━━━━━━\u001b[0m\u001b[37m\u001b[0m \u001b[1m1s\u001b[0m 87ms/step - categorical_accuracy: 0.8813 - loss: 4.5060 - val_categorical_accuracy: 0.7805 - val_loss: 4.7126\n",
            "Epoch 40/150\n",
            "\u001b[1m9/9\u001b[0m \u001b[32m━━━━━━━━━━━━━━━━━━━━\u001b[0m\u001b[37m\u001b[0m \u001b[1m1s\u001b[0m 91ms/step - categorical_accuracy: 0.8643 - loss: 4.4862 - val_categorical_accuracy: 0.8049 - val_loss: 4.6449\n",
            "Epoch 41/150\n",
            "\u001b[1m9/9\u001b[0m \u001b[32m━━━━━━━━━━━━━━━━━━━━\u001b[0m\u001b[37m\u001b[0m \u001b[1m1s\u001b[0m 83ms/step - categorical_accuracy: 0.8901 - loss: 4.4187 - val_categorical_accuracy: 0.7805 - val_loss: 4.6197\n",
            "Epoch 42/150\n",
            "\u001b[1m9/9\u001b[0m \u001b[32m━━━━━━━━━━━━━━━━━━━━\u001b[0m\u001b[37m\u001b[0m \u001b[1m1s\u001b[0m 89ms/step - categorical_accuracy: 0.8667 - loss: 4.4465 - val_categorical_accuracy: 0.7805 - val_loss: 4.5555\n",
            "Epoch 43/150\n",
            "\u001b[1m9/9\u001b[0m \u001b[32m━━━━━━━━━━━━━━━━━━━━\u001b[0m\u001b[37m\u001b[0m \u001b[1m1s\u001b[0m 90ms/step - categorical_accuracy: 0.8733 - loss: 4.3969 - val_categorical_accuracy: 0.7805 - val_loss: 4.5317\n",
            "Epoch 44/150\n",
            "\u001b[1m9/9\u001b[0m \u001b[32m━━━━━━━━━━━━━━━━━━━━\u001b[0m\u001b[37m\u001b[0m \u001b[1m1s\u001b[0m 90ms/step - categorical_accuracy: 0.8843 - loss: 4.3374 - val_categorical_accuracy: 0.8049 - val_loss: 4.4778\n",
            "Epoch 45/150\n",
            "\u001b[1m9/9\u001b[0m \u001b[32m━━━━━━━━━━━━━━━━━━━━\u001b[0m\u001b[37m\u001b[0m \u001b[1m1s\u001b[0m 93ms/step - categorical_accuracy: 0.8938 - loss: 4.2648 - val_categorical_accuracy: 0.7805 - val_loss: 4.4430\n",
            "Epoch 46/150\n",
            "\u001b[1m9/9\u001b[0m \u001b[32m━━━━━━━━━━━━━━━━━━━━\u001b[0m\u001b[37m\u001b[0m \u001b[1m1s\u001b[0m 79ms/step - categorical_accuracy: 0.8798 - loss: 4.3213 - val_categorical_accuracy: 0.8293 - val_loss: 4.4176\n",
            "Epoch 47/150\n",
            "\u001b[1m9/9\u001b[0m \u001b[32m━━━━━━━━━━━━━━━━━━━━\u001b[0m\u001b[37m\u001b[0m \u001b[1m1s\u001b[0m 89ms/step - categorical_accuracy: 0.8775 - loss: 4.2881 - val_categorical_accuracy: 0.7805 - val_loss: 4.3797\n",
            "Epoch 48/150\n",
            "\u001b[1m9/9\u001b[0m \u001b[32m━━━━━━━━━━━━━━━━━━━━\u001b[0m\u001b[37m\u001b[0m \u001b[1m1s\u001b[0m 85ms/step - categorical_accuracy: 0.8967 - loss: 4.1915 - val_categorical_accuracy: 0.8049 - val_loss: 4.3566\n",
            "Epoch 49/150\n",
            "\u001b[1m9/9\u001b[0m \u001b[32m━━━━━━━━━━━━━━━━━━━━\u001b[0m\u001b[37m\u001b[0m \u001b[1m2s\u001b[0m 175ms/step - categorical_accuracy: 0.9073 - loss: 4.1864 - val_categorical_accuracy: 0.8049 - val_loss: 4.3094\n",
            "Epoch 50/150\n",
            "\u001b[1m9/9\u001b[0m \u001b[32m━━━━━━━━━━━━━━━━━━━━\u001b[0m\u001b[37m\u001b[0m \u001b[1m2s\u001b[0m 94ms/step - categorical_accuracy: 0.9014 - loss: 4.2013 - val_categorical_accuracy: 0.8293 - val_loss: 4.2884\n",
            "Epoch 51/150\n",
            "\u001b[1m9/9\u001b[0m \u001b[32m━━━━━━━━━━━━━━━━━━━━\u001b[0m\u001b[37m\u001b[0m \u001b[1m1s\u001b[0m 83ms/step - categorical_accuracy: 0.8890 - loss: 4.2325 - val_categorical_accuracy: 0.8049 - val_loss: 4.2458\n",
            "Epoch 52/150\n",
            "\u001b[1m9/9\u001b[0m \u001b[32m━━━━━━━━━━━━━━━━━━━━\u001b[0m\u001b[37m\u001b[0m \u001b[1m1s\u001b[0m 89ms/step - categorical_accuracy: 0.8979 - loss: 4.1422 - val_categorical_accuracy: 0.8049 - val_loss: 4.2291\n",
            "Epoch 53/150\n",
            "\u001b[1m9/9\u001b[0m \u001b[32m━━━━━━━━━━━━━━━━━━━━\u001b[0m\u001b[37m\u001b[0m \u001b[1m1s\u001b[0m 94ms/step - categorical_accuracy: 0.9050 - loss: 4.1237 - val_categorical_accuracy: 0.7561 - val_loss: 4.1958\n",
            "Epoch 54/150\n",
            "\u001b[1m9/9\u001b[0m \u001b[32m━━━━━━━━━━━━━━━━━━━━\u001b[0m\u001b[37m\u001b[0m \u001b[1m1s\u001b[0m 91ms/step - categorical_accuracy: 0.8997 - loss: 4.1026 - val_categorical_accuracy: 0.8049 - val_loss: 4.1656\n",
            "Epoch 55/150\n",
            "\u001b[1m9/9\u001b[0m \u001b[32m━━━━━━━━━━━━━━━━━━━━\u001b[0m\u001b[37m\u001b[0m \u001b[1m1s\u001b[0m 87ms/step - categorical_accuracy: 0.9138 - loss: 4.0584 - val_categorical_accuracy: 0.8049 - val_loss: 4.1271\n",
            "Epoch 56/150\n",
            "\u001b[1m9/9\u001b[0m \u001b[32m━━━━━━━━━━━━━━━━━━━━\u001b[0m\u001b[37m\u001b[0m \u001b[1m1s\u001b[0m 90ms/step - categorical_accuracy: 0.9049 - loss: 4.0634 - val_categorical_accuracy: 0.8049 - val_loss: 4.1293\n",
            "Epoch 57/150\n",
            "\u001b[1m9/9\u001b[0m \u001b[32m━━━━━━━━━━━━━━━━━━━━\u001b[0m\u001b[37m\u001b[0m \u001b[1m1s\u001b[0m 85ms/step - categorical_accuracy: 0.8936 - loss: 4.0663 - val_categorical_accuracy: 0.8049 - val_loss: 4.0964\n",
            "Epoch 58/150\n",
            "\u001b[1m9/9\u001b[0m \u001b[32m━━━━━━━━━━━━━━━━━━━━\u001b[0m\u001b[37m\u001b[0m \u001b[1m1s\u001b[0m 86ms/step - categorical_accuracy: 0.8988 - loss: 4.0395 - val_categorical_accuracy: 0.8293 - val_loss: 4.0786\n",
            "Epoch 59/150\n",
            "\u001b[1m9/9\u001b[0m \u001b[32m━━━━━━━━━━━━━━━━━━━━\u001b[0m\u001b[37m\u001b[0m \u001b[1m1s\u001b[0m 82ms/step - categorical_accuracy: 0.8967 - loss: 4.0296 - val_categorical_accuracy: 0.8049 - val_loss: 4.0537\n",
            "Epoch 60/150\n",
            "\u001b[1m9/9\u001b[0m \u001b[32m━━━━━━━━━━━━━━━━━━━━\u001b[0m\u001b[37m\u001b[0m \u001b[1m2s\u001b[0m 148ms/step - categorical_accuracy: 0.8800 - loss: 4.0157 - val_categorical_accuracy: 0.7805 - val_loss: 4.0197\n",
            "Epoch 61/150\n",
            "\u001b[1m9/9\u001b[0m \u001b[32m━━━━━━━━━━━━━━━━━━━━\u001b[0m\u001b[37m\u001b[0m \u001b[1m1s\u001b[0m 159ms/step - categorical_accuracy: 0.9100 - loss: 4.0114 - val_categorical_accuracy: 0.7805 - val_loss: 4.0229\n",
            "Epoch 62/150\n",
            "\u001b[1m9/9\u001b[0m \u001b[32m━━━━━━━━━━━━━━━━━━━━\u001b[0m\u001b[37m\u001b[0m \u001b[1m2s\u001b[0m 88ms/step - categorical_accuracy: 0.9210 - loss: 3.9316 - val_categorical_accuracy: 0.7805 - val_loss: 4.0037\n",
            "Epoch 63/150\n",
            "\u001b[1m9/9\u001b[0m \u001b[32m━━━━━━━━━━━━━━━━━━━━\u001b[0m\u001b[37m\u001b[0m \u001b[1m1s\u001b[0m 90ms/step - categorical_accuracy: 0.9073 - loss: 3.9149 - val_categorical_accuracy: 0.8049 - val_loss: 3.9696\n",
            "Epoch 64/150\n",
            "\u001b[1m9/9\u001b[0m \u001b[32m━━━━━━━━━━━━━━━━━━━━\u001b[0m\u001b[37m\u001b[0m \u001b[1m1s\u001b[0m 91ms/step - categorical_accuracy: 0.9006 - loss: 3.9363 - val_categorical_accuracy: 0.8049 - val_loss: 3.9673\n",
            "Epoch 65/150\n",
            "\u001b[1m9/9\u001b[0m \u001b[32m━━━━━━━━━━━━━━━━━━━━\u001b[0m\u001b[37m\u001b[0m \u001b[1m1s\u001b[0m 84ms/step - categorical_accuracy: 0.8995 - loss: 3.9123 - val_categorical_accuracy: 0.7805 - val_loss: 3.9312\n",
            "Epoch 66/150\n",
            "\u001b[1m9/9\u001b[0m \u001b[32m━━━━━━━━━━━━━━━━━━━━\u001b[0m\u001b[37m\u001b[0m \u001b[1m1s\u001b[0m 83ms/step - categorical_accuracy: 0.9106 - loss: 3.8715 - val_categorical_accuracy: 0.8049 - val_loss: 3.9427\n",
            "Epoch 67/150\n",
            "\u001b[1m9/9\u001b[0m \u001b[32m━━━━━━━━━━━━━━━━━━━━\u001b[0m\u001b[37m\u001b[0m \u001b[1m1s\u001b[0m 91ms/step - categorical_accuracy: 0.9105 - loss: 3.8761 - val_categorical_accuracy: 0.8049 - val_loss: 3.9157\n",
            "Epoch 68/150\n",
            "\u001b[1m9/9\u001b[0m \u001b[32m━━━━━━━━━━━━━━━━━━━━\u001b[0m\u001b[37m\u001b[0m \u001b[1m1s\u001b[0m 89ms/step - categorical_accuracy: 0.9088 - loss: 3.8592 - val_categorical_accuracy: 0.8049 - val_loss: 3.9049\n",
            "Epoch 69/150\n",
            "\u001b[1m9/9\u001b[0m \u001b[32m━━━━━━━━━━━━━━━━━━━━\u001b[0m\u001b[37m\u001b[0m \u001b[1m1s\u001b[0m 84ms/step - categorical_accuracy: 0.9018 - loss: 3.8609 - val_categorical_accuracy: 0.8293 - val_loss: 3.8830\n",
            "Epoch 70/150\n",
            "\u001b[1m9/9\u001b[0m \u001b[32m━━━━━━━━━━━━━━━━━━━━\u001b[0m\u001b[37m\u001b[0m \u001b[1m2s\u001b[0m 171ms/step - categorical_accuracy: 0.9032 - loss: 3.8463 - val_categorical_accuracy: 0.8049 - val_loss: 3.8532\n",
            "Epoch 71/150\n",
            "\u001b[1m9/9\u001b[0m \u001b[32m━━━━━━━━━━━━━━━━━━━━\u001b[0m\u001b[37m\u001b[0m \u001b[1m1s\u001b[0m 156ms/step - categorical_accuracy: 0.8955 - loss: 3.8720 - val_categorical_accuracy: 0.8049 - val_loss: 3.8440\n",
            "Epoch 72/150\n",
            "\u001b[1m9/9\u001b[0m \u001b[32m━━━━━━━━━━━━━━━━━━━━\u001b[0m\u001b[37m\u001b[0m \u001b[1m2s\u001b[0m 86ms/step - categorical_accuracy: 0.9202 - loss: 3.8319 - val_categorical_accuracy: 0.7805 - val_loss: 3.8286\n",
            "Epoch 73/150\n",
            "\u001b[1m9/9\u001b[0m \u001b[32m━━━━━━━━━━━━━━━━━━━━\u001b[0m\u001b[37m\u001b[0m \u001b[1m1s\u001b[0m 83ms/step - categorical_accuracy: 0.9156 - loss: 3.7871 - val_categorical_accuracy: 0.8049 - val_loss: 3.8011\n",
            "Epoch 74/150\n",
            "\u001b[1m9/9\u001b[0m \u001b[32m━━━━━━━━━━━━━━━━━━━━\u001b[0m\u001b[37m\u001b[0m \u001b[1m1s\u001b[0m 93ms/step - categorical_accuracy: 0.9092 - loss: 3.8096 - val_categorical_accuracy: 0.8049 - val_loss: 3.8108\n",
            "Epoch 75/150\n",
            "\u001b[1m9/9\u001b[0m \u001b[32m━━━━━━━━━━━━━━━━━━━━\u001b[0m\u001b[37m\u001b[0m \u001b[1m1s\u001b[0m 87ms/step - categorical_accuracy: 0.8926 - loss: 3.8425 - val_categorical_accuracy: 0.7805 - val_loss: 3.8060\n",
            "Epoch 76/150\n",
            "\u001b[1m9/9\u001b[0m \u001b[32m━━━━━━━━━━━━━━━━━━━━\u001b[0m\u001b[37m\u001b[0m \u001b[1m1s\u001b[0m 86ms/step - categorical_accuracy: 0.9073 - loss: 3.7724 - val_categorical_accuracy: 0.7805 - val_loss: 3.7866\n",
            "Epoch 77/150\n",
            "\u001b[1m9/9\u001b[0m \u001b[32m━━━━━━━━━━━━━━━━━━━━\u001b[0m\u001b[37m\u001b[0m \u001b[1m1s\u001b[0m 82ms/step - categorical_accuracy: 0.9210 - loss: 3.7098 - val_categorical_accuracy: 0.7561 - val_loss: 3.7712\n",
            "Epoch 78/150\n",
            "\u001b[1m9/9\u001b[0m \u001b[32m━━━━━━━━━━━━━━━━━━━━\u001b[0m\u001b[37m\u001b[0m \u001b[1m1s\u001b[0m 80ms/step - categorical_accuracy: 0.9053 - loss: 3.7602 - val_categorical_accuracy: 0.7805 - val_loss: 3.7395\n",
            "Epoch 79/150\n",
            "\u001b[1m9/9\u001b[0m \u001b[32m━━━━━━━━━━━━━━━━━━━━\u001b[0m\u001b[37m\u001b[0m \u001b[1m1s\u001b[0m 84ms/step - categorical_accuracy: 0.8893 - loss: 3.7767 - val_categorical_accuracy: 0.8049 - val_loss: 3.7229\n",
            "Epoch 80/150\n",
            "\u001b[1m9/9\u001b[0m \u001b[32m━━━━━━━━━━━━━━━━━━━━\u001b[0m\u001b[37m\u001b[0m \u001b[1m1s\u001b[0m 117ms/step - categorical_accuracy: 0.8976 - loss: 3.7936 - val_categorical_accuracy: 0.7805 - val_loss: 3.7107\n",
            "Epoch 81/150\n",
            "\u001b[1m9/9\u001b[0m \u001b[32m━━━━━━━━━━━━━━━━━━━━\u001b[0m\u001b[37m\u001b[0m \u001b[1m1s\u001b[0m 152ms/step - categorical_accuracy: 0.9164 - loss: 3.6496 - val_categorical_accuracy: 0.7805 - val_loss: 3.7037\n",
            "Epoch 82/150\n",
            "\u001b[1m9/9\u001b[0m \u001b[32m━━━━━━━━━━━━━━━━━━━━\u001b[0m\u001b[37m\u001b[0m \u001b[1m2s\u001b[0m 97ms/step - categorical_accuracy: 0.8987 - loss: 3.7239 - val_categorical_accuracy: 0.7805 - val_loss: 3.6914\n",
            "Epoch 83/150\n",
            "\u001b[1m9/9\u001b[0m \u001b[32m━━━━━━━━━━━━━━━━━━━━\u001b[0m\u001b[37m\u001b[0m \u001b[1m1s\u001b[0m 81ms/step - categorical_accuracy: 0.9145 - loss: 3.6850 - val_categorical_accuracy: 0.7805 - val_loss: 3.7103\n",
            "Epoch 84/150\n",
            "\u001b[1m9/9\u001b[0m \u001b[32m━━━━━━━━━━━━━━━━━━━━\u001b[0m\u001b[37m\u001b[0m \u001b[1m1s\u001b[0m 81ms/step - categorical_accuracy: 0.9166 - loss: 3.6870 - val_categorical_accuracy: 0.8049 - val_loss: 3.6499\n",
            "Epoch 85/150\n",
            "\u001b[1m9/9\u001b[0m \u001b[32m━━━━━━━━━━━━━━━━━━━━\u001b[0m\u001b[37m\u001b[0m \u001b[1m1s\u001b[0m 81ms/step - categorical_accuracy: 0.9309 - loss: 3.6289 - val_categorical_accuracy: 0.7805 - val_loss: 3.6460\n",
            "Epoch 86/150\n",
            "\u001b[1m9/9\u001b[0m \u001b[32m━━━━━━━━━━━━━━━━━━━━\u001b[0m\u001b[37m\u001b[0m \u001b[1m1s\u001b[0m 82ms/step - categorical_accuracy: 0.9070 - loss: 3.6617 - val_categorical_accuracy: 0.7805 - val_loss: 3.6536\n",
            "Epoch 87/150\n",
            "\u001b[1m9/9\u001b[0m \u001b[32m━━━━━━━━━━━━━━━━━━━━\u001b[0m\u001b[37m\u001b[0m \u001b[1m1s\u001b[0m 89ms/step - categorical_accuracy: 0.9207 - loss: 3.6210 - val_categorical_accuracy: 0.7805 - val_loss: 3.6261\n",
            "Epoch 88/150\n",
            "\u001b[1m9/9\u001b[0m \u001b[32m━━━━━━━━━━━━━━━━━━━━\u001b[0m\u001b[37m\u001b[0m \u001b[1m1s\u001b[0m 82ms/step - categorical_accuracy: 0.9053 - loss: 3.6667 - val_categorical_accuracy: 0.7805 - val_loss: 3.5958\n",
            "Epoch 89/150\n",
            "\u001b[1m9/9\u001b[0m \u001b[32m━━━━━━━━━━━━━━━━━━━━\u001b[0m\u001b[37m\u001b[0m \u001b[1m1s\u001b[0m 82ms/step - categorical_accuracy: 0.9270 - loss: 3.5890 - val_categorical_accuracy: 0.8293 - val_loss: 3.6277\n",
            "Epoch 90/150\n",
            "\u001b[1m9/9\u001b[0m \u001b[32m━━━━━━━━━━━━━━━━━━━━\u001b[0m\u001b[37m\u001b[0m \u001b[1m1s\u001b[0m 86ms/step - categorical_accuracy: 0.9187 - loss: 3.5788 - val_categorical_accuracy: 0.8049 - val_loss: 3.6046\n",
            "Epoch 91/150\n",
            "\u001b[1m9/9\u001b[0m \u001b[32m━━━━━━━━━━━━━━━━━━━━\u001b[0m\u001b[37m\u001b[0m \u001b[1m1s\u001b[0m 89ms/step - categorical_accuracy: 0.9378 - loss: 3.5287 - val_categorical_accuracy: 0.8049 - val_loss: 3.6047\n",
            "Epoch 92/150\n",
            "\u001b[1m9/9\u001b[0m \u001b[32m━━━━━━━━━━━━━━━━━━━━\u001b[0m\u001b[37m\u001b[0m \u001b[1m2s\u001b[0m 140ms/step - categorical_accuracy: 0.9309 - loss: 3.5440 - val_categorical_accuracy: 0.7805 - val_loss: 3.5957\n",
            "Epoch 93/150\n",
            "\u001b[1m9/9\u001b[0m \u001b[32m━━━━━━━━━━━━━━━━━━━━\u001b[0m\u001b[37m\u001b[0m \u001b[1m1s\u001b[0m 155ms/step - categorical_accuracy: 0.9150 - loss: 3.5812 - val_categorical_accuracy: 0.8049 - val_loss: 3.5688\n",
            "Epoch 94/150\n",
            "\u001b[1m9/9\u001b[0m \u001b[32m━━━━━━━━━━━━━━━━━━━━\u001b[0m\u001b[37m\u001b[0m \u001b[1m2s\u001b[0m 81ms/step - categorical_accuracy: 0.9099 - loss: 3.5622 - val_categorical_accuracy: 0.7805 - val_loss: 3.5682\n",
            "Epoch 95/150\n",
            "\u001b[1m9/9\u001b[0m \u001b[32m━━━━━━━━━━━━━━━━━━━━\u001b[0m\u001b[37m\u001b[0m \u001b[1m1s\u001b[0m 89ms/step - categorical_accuracy: 0.9181 - loss: 3.5564 - val_categorical_accuracy: 0.7805 - val_loss: 3.5595\n",
            "Epoch 96/150\n",
            "\u001b[1m9/9\u001b[0m \u001b[32m━━━━━━━━━━━━━━━━━━━━\u001b[0m\u001b[37m\u001b[0m \u001b[1m1s\u001b[0m 87ms/step - categorical_accuracy: 0.9167 - loss: 3.5687 - val_categorical_accuracy: 0.7805 - val_loss: 3.5522\n",
            "Epoch 97/150\n",
            "\u001b[1m9/9\u001b[0m \u001b[32m━━━━━━━━━━━━━━━━━━━━\u001b[0m\u001b[37m\u001b[0m \u001b[1m1s\u001b[0m 91ms/step - categorical_accuracy: 0.9061 - loss: 3.5680 - val_categorical_accuracy: 0.8049 - val_loss: 3.5303\n",
            "Epoch 98/150\n",
            "\u001b[1m9/9\u001b[0m \u001b[32m━━━━━━━━━━━━━━━━━━━━\u001b[0m\u001b[37m\u001b[0m \u001b[1m1s\u001b[0m 82ms/step - categorical_accuracy: 0.9228 - loss: 3.5085 - val_categorical_accuracy: 0.7805 - val_loss: 3.5583\n",
            "Epoch 99/150\n",
            "\u001b[1m9/9\u001b[0m \u001b[32m━━━━━━━━━━━━━━━━━━━━\u001b[0m\u001b[37m\u001b[0m \u001b[1m1s\u001b[0m 84ms/step - categorical_accuracy: 0.9080 - loss: 3.5657 - val_categorical_accuracy: 0.8049 - val_loss: 3.5559\n",
            "Epoch 100/150\n",
            "\u001b[1m9/9\u001b[0m \u001b[32m━━━━━━━━━━━━━━━━━━━━\u001b[0m\u001b[37m\u001b[0m \u001b[1m1s\u001b[0m 85ms/step - categorical_accuracy: 0.8978 - loss: 3.6048 - val_categorical_accuracy: 0.8049 - val_loss: 3.5305\n",
            "Epoch 101/150\n",
            "\u001b[1m9/9\u001b[0m \u001b[32m━━━━━━━━━━━━━━━━━━━━\u001b[0m\u001b[37m\u001b[0m \u001b[1m1s\u001b[0m 89ms/step - categorical_accuracy: 0.9144 - loss: 3.5238 - val_categorical_accuracy: 0.8049 - val_loss: 3.5193\n",
            "Epoch 102/150\n",
            "\u001b[1m9/9\u001b[0m \u001b[32m━━━━━━━━━━━━━━━━━━━━\u001b[0m\u001b[37m\u001b[0m \u001b[1m1s\u001b[0m 79ms/step - categorical_accuracy: 0.9190 - loss: 3.4746 - val_categorical_accuracy: 0.7805 - val_loss: 3.5158\n",
            "Epoch 103/150\n",
            "\u001b[1m9/9\u001b[0m \u001b[32m━━━━━━━━━━━━━━━━━━━━\u001b[0m\u001b[37m\u001b[0m \u001b[1m1s\u001b[0m 87ms/step - categorical_accuracy: 0.9052 - loss: 3.5184 - val_categorical_accuracy: 0.7805 - val_loss: 3.5076\n",
            "Epoch 104/150\n",
            "\u001b[1m9/9\u001b[0m \u001b[32m━━━━━━━━━━━━━━━━━━━━\u001b[0m\u001b[37m\u001b[0m \u001b[1m2s\u001b[0m 154ms/step - categorical_accuracy: 0.9238 - loss: 3.4557 - val_categorical_accuracy: 0.8049 - val_loss: 3.4989\n",
            "Epoch 105/150\n",
            "\u001b[1m9/9\u001b[0m \u001b[32m━━━━━━━━━━━━━━━━━━━━\u001b[0m\u001b[37m\u001b[0m \u001b[1m2s\u001b[0m 117ms/step - categorical_accuracy: 0.9275 - loss: 3.4341 - val_categorical_accuracy: 0.8049 - val_loss: 3.4756\n",
            "Epoch 106/150\n",
            "\u001b[1m9/9\u001b[0m \u001b[32m━━━━━━━━━━━━━━━━━━━━\u001b[0m\u001b[37m\u001b[0m \u001b[1m1s\u001b[0m 89ms/step - categorical_accuracy: 0.9177 - loss: 3.5002 - val_categorical_accuracy: 0.7805 - val_loss: 3.4750\n",
            "Epoch 107/150\n",
            "\u001b[1m9/9\u001b[0m \u001b[32m━━━━━━━━━━━━━━━━━━━━\u001b[0m\u001b[37m\u001b[0m \u001b[1m1s\u001b[0m 84ms/step - categorical_accuracy: 0.8992 - loss: 3.5261 - val_categorical_accuracy: 0.7561 - val_loss: 3.4770\n",
            "Epoch 108/150\n",
            "\u001b[1m9/9\u001b[0m \u001b[32m━━━━━━━━━━━━━━━━━━━━\u001b[0m\u001b[37m\u001b[0m \u001b[1m1s\u001b[0m 84ms/step - categorical_accuracy: 0.9073 - loss: 3.4845 - val_categorical_accuracy: 0.7805 - val_loss: 3.4553\n",
            "Epoch 109/150\n",
            "\u001b[1m9/9\u001b[0m \u001b[32m━━━━━━━━━━━━━━━━━━━━\u001b[0m\u001b[37m\u001b[0m \u001b[1m1s\u001b[0m 79ms/step - categorical_accuracy: 0.9206 - loss: 3.4545 - val_categorical_accuracy: 0.8049 - val_loss: 3.4578\n",
            "Epoch 110/150\n",
            "\u001b[1m9/9\u001b[0m \u001b[32m━━━━━━━━━━━━━━━━━━━━\u001b[0m\u001b[37m\u001b[0m \u001b[1m1s\u001b[0m 80ms/step - categorical_accuracy: 0.9313 - loss: 3.4029 - val_categorical_accuracy: 0.7805 - val_loss: 3.4521\n",
            "Epoch 111/150\n",
            "\u001b[1m9/9\u001b[0m \u001b[32m━━━━━━━━━━━━━━━━━━━━\u001b[0m\u001b[37m\u001b[0m \u001b[1m1s\u001b[0m 81ms/step - categorical_accuracy: 0.9250 - loss: 3.4178 - val_categorical_accuracy: 0.8049 - val_loss: 3.4482\n",
            "Epoch 112/150\n",
            "\u001b[1m9/9\u001b[0m \u001b[32m━━━━━━━━━━━━━━━━━━━━\u001b[0m\u001b[37m\u001b[0m \u001b[1m1s\u001b[0m 81ms/step - categorical_accuracy: 0.9080 - loss: 3.4559 - val_categorical_accuracy: 0.7805 - val_loss: 3.4298\n",
            "Epoch 113/150\n",
            "\u001b[1m9/9\u001b[0m \u001b[32m━━━━━━━━━━━━━━━━━━━━\u001b[0m\u001b[37m\u001b[0m \u001b[1m1s\u001b[0m 81ms/step - categorical_accuracy: 0.9285 - loss: 3.3763 - val_categorical_accuracy: 0.8049 - val_loss: 3.4342\n",
            "Epoch 114/150\n",
            "\u001b[1m9/9\u001b[0m \u001b[32m━━━━━━━━━━━━━━━━━━━━\u001b[0m\u001b[37m\u001b[0m \u001b[1m1s\u001b[0m 88ms/step - categorical_accuracy: 0.9193 - loss: 3.4159 - val_categorical_accuracy: 0.8049 - val_loss: 3.4077\n",
            "Epoch 115/150\n",
            "\u001b[1m9/9\u001b[0m \u001b[32m━━━━━━━━━━━━━━━━━━━━\u001b[0m\u001b[37m\u001b[0m \u001b[1m1s\u001b[0m 92ms/step - categorical_accuracy: 0.9195 - loss: 3.4090 - val_categorical_accuracy: 0.8049 - val_loss: 3.4309\n",
            "Epoch 116/150\n",
            "\u001b[1m9/9\u001b[0m \u001b[32m━━━━━━━━━━━━━━━━━━━━\u001b[0m\u001b[37m\u001b[0m \u001b[1m1s\u001b[0m 152ms/step - categorical_accuracy: 0.9259 - loss: 3.3806 - val_categorical_accuracy: 0.8049 - val_loss: 3.4306\n",
            "Epoch 117/150\n",
            "\u001b[1m9/9\u001b[0m \u001b[32m━━━━━━━━━━━━━━━━━━━━\u001b[0m\u001b[37m\u001b[0m \u001b[1m1s\u001b[0m 162ms/step - categorical_accuracy: 0.9233 - loss: 3.3750 - val_categorical_accuracy: 0.8293 - val_loss: 3.4046\n",
            "Epoch 118/150\n",
            "\u001b[1m9/9\u001b[0m \u001b[32m━━━━━━━━━━━━━━━━━━━━\u001b[0m\u001b[37m\u001b[0m \u001b[1m2s\u001b[0m 86ms/step - categorical_accuracy: 0.9164 - loss: 3.3991 - val_categorical_accuracy: 0.7805 - val_loss: 3.4010\n",
            "Epoch 119/150\n",
            "\u001b[1m9/9\u001b[0m \u001b[32m━━━━━━━━━━━━━━━━━━━━\u001b[0m\u001b[37m\u001b[0m \u001b[1m1s\u001b[0m 92ms/step - categorical_accuracy: 0.9224 - loss: 3.3739 - val_categorical_accuracy: 0.8049 - val_loss: 3.3887\n",
            "Epoch 120/150\n",
            "\u001b[1m9/9\u001b[0m \u001b[32m━━━━━━━━━━━━━━━━━━━━\u001b[0m\u001b[37m\u001b[0m \u001b[1m1s\u001b[0m 82ms/step - categorical_accuracy: 0.9149 - loss: 3.3997 - val_categorical_accuracy: 0.7561 - val_loss: 3.4010\n",
            "Epoch 121/150\n",
            "\u001b[1m9/9\u001b[0m \u001b[32m━━━━━━━━━━━━━━━━━━━━\u001b[0m\u001b[37m\u001b[0m \u001b[1m1s\u001b[0m 97ms/step - categorical_accuracy: 0.9338 - loss: 3.3001 - val_categorical_accuracy: 0.8049 - val_loss: 3.3799\n",
            "Epoch 122/150\n",
            "\u001b[1m9/9\u001b[0m \u001b[32m━━━━━━━━━━━━━━━━━━━━\u001b[0m\u001b[37m\u001b[0m \u001b[1m1s\u001b[0m 91ms/step - categorical_accuracy: 0.9180 - loss: 3.3868 - val_categorical_accuracy: 0.7561 - val_loss: 3.3650\n",
            "Epoch 123/150\n",
            "\u001b[1m9/9\u001b[0m \u001b[32m━━━━━━━━━━━━━━━━━━━━\u001b[0m\u001b[37m\u001b[0m \u001b[1m1s\u001b[0m 84ms/step - categorical_accuracy: 0.9145 - loss: 3.3857 - val_categorical_accuracy: 0.8049 - val_loss: 3.3653\n",
            "Epoch 124/150\n",
            "\u001b[1m9/9\u001b[0m \u001b[32m━━━━━━━━━━━━━━━━━━━━\u001b[0m\u001b[37m\u001b[0m \u001b[1m1s\u001b[0m 86ms/step - categorical_accuracy: 0.9323 - loss: 3.3078 - val_categorical_accuracy: 0.7561 - val_loss: 3.3843\n",
            "Epoch 125/150\n",
            "\u001b[1m9/9\u001b[0m \u001b[32m━━━━━━━━━━━━━━━━━━━━\u001b[0m\u001b[37m\u001b[0m \u001b[1m1s\u001b[0m 85ms/step - categorical_accuracy: 0.9182 - loss: 3.3629 - val_categorical_accuracy: 0.7805 - val_loss: 3.3531\n",
            "Epoch 126/150\n",
            "\u001b[1m9/9\u001b[0m \u001b[32m━━━━━━━━━━━━━━━━━━━━\u001b[0m\u001b[37m\u001b[0m \u001b[1m1s\u001b[0m 84ms/step - categorical_accuracy: 0.8989 - loss: 3.4294 - val_categorical_accuracy: 0.7561 - val_loss: 3.3681\n",
            "Epoch 127/150\n",
            "\u001b[1m9/9\u001b[0m \u001b[32m━━━━━━━━━━━━━━━━━━━━\u001b[0m\u001b[37m\u001b[0m \u001b[1m1s\u001b[0m 84ms/step - categorical_accuracy: 0.9054 - loss: 3.3686 - val_categorical_accuracy: 0.8293 - val_loss: 3.3504\n",
            "Epoch 128/150\n",
            "\u001b[1m9/9\u001b[0m \u001b[32m━━━━━━━━━━━━━━━━━━━━\u001b[0m\u001b[37m\u001b[0m \u001b[1m1s\u001b[0m 100ms/step - categorical_accuracy: 0.9334 - loss: 3.2765 - val_categorical_accuracy: 0.7561 - val_loss: 3.3399\n",
            "Epoch 129/150\n",
            "\u001b[1m9/9\u001b[0m \u001b[32m━━━━━━━━━━━━━━━━━━━━\u001b[0m\u001b[37m\u001b[0m \u001b[1m2s\u001b[0m 151ms/step - categorical_accuracy: 0.9105 - loss: 3.3349 - val_categorical_accuracy: 0.7805 - val_loss: 3.3340\n",
            "Epoch 130/150\n",
            "\u001b[1m9/9\u001b[0m \u001b[32m━━━━━━━━━━━━━━━━━━━━\u001b[0m\u001b[37m\u001b[0m \u001b[1m1s\u001b[0m 140ms/step - categorical_accuracy: 0.9234 - loss: 3.2911 - val_categorical_accuracy: 0.7561 - val_loss: 3.3405\n",
            "Epoch 131/150\n",
            "\u001b[1m9/9\u001b[0m \u001b[32m━━━━━━━━━━━━━━━━━━━━\u001b[0m\u001b[37m\u001b[0m \u001b[1m2s\u001b[0m 88ms/step - categorical_accuracy: 0.9279 - loss: 3.2907 - val_categorical_accuracy: 0.7805 - val_loss: 3.3256\n",
            "Epoch 132/150\n",
            "\u001b[1m9/9\u001b[0m \u001b[32m━━━━━━━━━━━━━━━━━━━━\u001b[0m\u001b[37m\u001b[0m \u001b[1m1s\u001b[0m 89ms/step - categorical_accuracy: 0.9268 - loss: 3.3135 - val_categorical_accuracy: 0.8049 - val_loss: 3.3145\n",
            "Epoch 133/150\n",
            "\u001b[1m9/9\u001b[0m \u001b[32m━━━━━━━━━━━━━━━━━━━━\u001b[0m\u001b[37m\u001b[0m \u001b[1m1s\u001b[0m 79ms/step - categorical_accuracy: 0.9325 - loss: 3.2624 - val_categorical_accuracy: 0.8049 - val_loss: 3.3142\n",
            "Epoch 134/150\n",
            "\u001b[1m9/9\u001b[0m \u001b[32m━━━━━━━━━━━━━━━━━━━━\u001b[0m\u001b[37m\u001b[0m \u001b[1m1s\u001b[0m 82ms/step - categorical_accuracy: 0.9158 - loss: 3.2934 - val_categorical_accuracy: 0.7805 - val_loss: 3.3155\n",
            "Epoch 135/150\n",
            "\u001b[1m9/9\u001b[0m \u001b[32m━━━━━━━━━━━━━━━━━━━━\u001b[0m\u001b[37m\u001b[0m \u001b[1m1s\u001b[0m 86ms/step - categorical_accuracy: 0.9218 - loss: 3.2921 - val_categorical_accuracy: 0.8049 - val_loss: 3.3121\n",
            "Epoch 136/150\n",
            "\u001b[1m9/9\u001b[0m \u001b[32m━━━━━━━━━━━━━━━━━━━━\u001b[0m\u001b[37m\u001b[0m \u001b[1m1s\u001b[0m 81ms/step - categorical_accuracy: 0.9194 - loss: 3.2974 - val_categorical_accuracy: 0.7805 - val_loss: 3.3101\n",
            "Epoch 137/150\n",
            "\u001b[1m9/9\u001b[0m \u001b[32m━━━━━━━━━━━━━━━━━━━━\u001b[0m\u001b[37m\u001b[0m \u001b[1m1s\u001b[0m 84ms/step - categorical_accuracy: 0.9076 - loss: 3.2989 - val_categorical_accuracy: 0.7805 - val_loss: 3.2926\n",
            "Epoch 138/150\n",
            "\u001b[1m9/9\u001b[0m \u001b[32m━━━━━━━━━━━━━━━━━━━━\u001b[0m\u001b[37m\u001b[0m \u001b[1m1s\u001b[0m 88ms/step - categorical_accuracy: 0.9223 - loss: 3.2507 - val_categorical_accuracy: 0.8049 - val_loss: 3.2848\n",
            "Epoch 139/150\n",
            "\u001b[1m9/9\u001b[0m \u001b[32m━━━━━━━━━━━━━━━━━━━━\u001b[0m\u001b[37m\u001b[0m \u001b[1m1s\u001b[0m 119ms/step - categorical_accuracy: 0.9222 - loss: 3.2720 - val_categorical_accuracy: 0.8293 - val_loss: 3.3006\n",
            "Epoch 140/150\n",
            "\u001b[1m9/9\u001b[0m \u001b[32m━━━━━━━━━━━━━━━━━━━━\u001b[0m\u001b[37m\u001b[0m \u001b[1m1s\u001b[0m 154ms/step - categorical_accuracy: 0.9163 - loss: 3.2754 - val_categorical_accuracy: 0.8049 - val_loss: 3.2875\n",
            "Epoch 141/150\n",
            "\u001b[1m9/9\u001b[0m \u001b[32m━━━━━━━━━━━━━━━━━━━━\u001b[0m\u001b[37m\u001b[0m \u001b[1m1s\u001b[0m 155ms/step - categorical_accuracy: 0.9180 - loss: 3.2553 - val_categorical_accuracy: 0.8049 - val_loss: 3.2564\n",
            "Epoch 142/150\n",
            "\u001b[1m9/9\u001b[0m \u001b[32m━━━━━━━━━━━━━━━━━━━━\u001b[0m\u001b[37m\u001b[0m \u001b[1m2s\u001b[0m 90ms/step - categorical_accuracy: 0.9088 - loss: 3.2905 - val_categorical_accuracy: 0.8293 - val_loss: 3.2730\n",
            "Epoch 143/150\n",
            "\u001b[1m9/9\u001b[0m \u001b[32m━━━━━━━━━━━━━━━━━━━━\u001b[0m\u001b[37m\u001b[0m \u001b[1m1s\u001b[0m 92ms/step - categorical_accuracy: 0.9151 - loss: 3.2964 - val_categorical_accuracy: 0.7805 - val_loss: 3.2679\n",
            "Epoch 144/150\n",
            "\u001b[1m9/9\u001b[0m \u001b[32m━━━━━━━━━━━━━━━━━━━━\u001b[0m\u001b[37m\u001b[0m \u001b[1m1s\u001b[0m 91ms/step - categorical_accuracy: 0.9337 - loss: 3.2010 - val_categorical_accuracy: 0.8049 - val_loss: 3.2462\n",
            "Epoch 145/150\n",
            "\u001b[1m9/9\u001b[0m \u001b[32m━━━━━━━━━━━━━━━━━━━━\u001b[0m\u001b[37m\u001b[0m \u001b[1m1s\u001b[0m 94ms/step - categorical_accuracy: 0.9115 - loss: 3.3151 - val_categorical_accuracy: 0.8049 - val_loss: 3.2551\n",
            "Epoch 146/150\n",
            "\u001b[1m9/9\u001b[0m \u001b[32m━━━━━━━━━━━━━━━━━━━━\u001b[0m\u001b[37m\u001b[0m \u001b[1m1s\u001b[0m 88ms/step - categorical_accuracy: 0.9179 - loss: 3.2449 - val_categorical_accuracy: 0.7561 - val_loss: 3.2545\n",
            "Epoch 147/150\n",
            "\u001b[1m9/9\u001b[0m \u001b[32m━━━━━━━━━━━━━━━━━━━━\u001b[0m\u001b[37m\u001b[0m \u001b[1m1s\u001b[0m 90ms/step - categorical_accuracy: 0.9070 - loss: 3.2946 - val_categorical_accuracy: 0.8049 - val_loss: 3.2345\n",
            "Epoch 148/150\n",
            "\u001b[1m9/9\u001b[0m \u001b[32m━━━━━━━━━━━━━━━━━━━━\u001b[0m\u001b[37m\u001b[0m \u001b[1m1s\u001b[0m 82ms/step - categorical_accuracy: 0.9193 - loss: 3.2264 - val_categorical_accuracy: 0.7805 - val_loss: 3.2427\n",
            "Epoch 149/150\n",
            "\u001b[1m9/9\u001b[0m \u001b[32m━━━━━━━━━━━━━━━━━━━━\u001b[0m\u001b[37m\u001b[0m \u001b[1m1s\u001b[0m 88ms/step - categorical_accuracy: 0.8989 - loss: 3.3247 - val_categorical_accuracy: 0.8049 - val_loss: 3.2528\n",
            "Epoch 150/150\n",
            "\u001b[1m9/9\u001b[0m \u001b[32m━━━━━━━━━━━━━━━━━━━━\u001b[0m\u001b[37m\u001b[0m \u001b[1m1s\u001b[0m 92ms/step - categorical_accuracy: 0.9169 - loss: 3.2131 - val_categorical_accuracy: 0.7805 - val_loss: 3.2329\n"
          ]
        }
      ],
      "source": [
        "class_weights = {i: weight for i, weight in enumerate([1.0, 2.0, 3.0, 1.5, 1.2, 1.1, 1.8, 1.5, 1.4, 2.0, 1.0, 1.7, 1.6, 1.2, 1.8])}\n",
        "history_GRU = model_GRU.fit(X_train, y_train, epochs=150, batch_size=64, validation_split=0.0667, class_weight=class_weights)"
      ]
    },
    {
      "cell_type": "code",
      "execution_count": null,
      "metadata": {
        "id": "AvYfz97l8krU"
      },
      "outputs": [],
      "source": [
        "from sklearn.metrics import multilabel_confusion_matrix, accuracy_score, classification_report"
      ]
    },
    {
      "cell_type": "code",
      "execution_count": null,
      "metadata": {
        "colab": {
          "base_uri": "https://localhost:8080/"
        },
        "id": "GioTYDG98l_6",
        "outputId": "ce56a5e9-818a-41a1-d873-4abcc2dac9d6"
      },
      "outputs": [
        {
          "name": "stdout",
          "output_type": "stream",
          "text": [
            "\u001b[1m5/5\u001b[0m \u001b[32m━━━━━━━━━━━━━━━━━━━━\u001b[0m\u001b[37m\u001b[0m \u001b[1m1s\u001b[0m 129ms/step\n"
          ]
        }
      ],
      "source": [
        "yhat = model_GRU.predict(X_test)"
      ]
    },
    {
      "cell_type": "code",
      "execution_count": null,
      "metadata": {
        "id": "hpL5znve8m1B"
      },
      "outputs": [],
      "source": [
        "ytrue = np.argmax(y_test, axis=1).tolist()\n",
        "yhat = np.argmax(yhat, axis=1).tolist()"
      ]
    },
    {
      "cell_type": "code",
      "execution_count": null,
      "metadata": {
        "colab": {
          "base_uri": "https://localhost:8080/"
        },
        "id": "8BPhaMzM8nyn",
        "outputId": "a4ff2e65-8336-4bb0-afaf-e71e1d6331cc"
      },
      "outputs": [
        {
          "data": {
            "text/plain": [
              "array([[[139,   1],\n",
              "        [  4,   6]],\n",
              "\n",
              "       [[128,  12],\n",
              "        [  0,  10]],\n",
              "\n",
              "       [[135,   5],\n",
              "        [  2,   8]],\n",
              "\n",
              "       [[136,   4],\n",
              "        [  4,   6]],\n",
              "\n",
              "       [[137,   3],\n",
              "        [  3,   7]],\n",
              "\n",
              "       [[137,   3],\n",
              "        [  4,   6]],\n",
              "\n",
              "       [[135,   5],\n",
              "        [  3,   7]],\n",
              "\n",
              "       [[139,   1],\n",
              "        [  6,   4]],\n",
              "\n",
              "       [[138,   2],\n",
              "        [  3,   7]],\n",
              "\n",
              "       [[139,   1],\n",
              "        [  2,   8]],\n",
              "\n",
              "       [[140,   0],\n",
              "        [  0,  10]],\n",
              "\n",
              "       [[140,   0],\n",
              "        [  1,   9]],\n",
              "\n",
              "       [[140,   0],\n",
              "        [  4,   6]],\n",
              "\n",
              "       [[139,   1],\n",
              "        [  1,   9]],\n",
              "\n",
              "       [[140,   0],\n",
              "        [  1,   9]]])"
            ]
          },
          "execution_count": 43,
          "metadata": {},
          "output_type": "execute_result"
        }
      ],
      "source": [
        "multilabel_confusion_matrix(ytrue, yhat)"
      ]
    },
    {
      "cell_type": "code",
      "execution_count": null,
      "metadata": {
        "colab": {
          "base_uri": "https://localhost:8080/"
        },
        "id": "W-17HeRF8rJO",
        "outputId": "85601665-c134-4530-8a87-242c1b7ff2d1"
      },
      "outputs": [
        {
          "data": {
            "text/plain": [
              "0.7466666666666667"
            ]
          },
          "execution_count": 44,
          "metadata": {},
          "output_type": "execute_result"
        }
      ],
      "source": [
        "accuracy_score(ytrue, yhat)"
      ]
    },
    {
      "cell_type": "code",
      "execution_count": null,
      "metadata": {
        "colab": {
          "base_uri": "https://localhost:8080/"
        },
        "id": "GROkKP8_8sqh",
        "outputId": "ddcab751-f9ec-4614-e0af-8a348db943d4"
      },
      "outputs": [
        {
          "name": "stdout",
          "output_type": "stream",
          "text": [
            "                 precision    recall  f1-score   support\n",
            "\n",
            "Congratulations       0.86      0.60      0.71        10\n",
            "         Excuse       0.45      1.00      0.62        10\n",
            " Good-afternoon       0.62      0.80      0.70        10\n",
            "       Good-bye       0.60      0.60      0.60        10\n",
            "   Good-evening       0.70      0.70      0.70        10\n",
            "   Good-morning       0.67      0.60      0.63        10\n",
            "     Good-night       0.58      0.70      0.64        10\n",
            " Happy-birthday       0.80      0.40      0.53        10\n",
            "      Hi,-hello       0.78      0.70      0.74        10\n",
            "    How-are-you       0.89      0.80      0.84        10\n",
            "           Name       1.00      1.00      1.00        10\n",
            "             No       1.00      0.90      0.95        10\n",
            "          Sorry       1.00      0.60      0.75        10\n",
            "      Thank-you       0.90      0.90      0.90        10\n",
            "You-are-welcome       1.00      0.90      0.95        10\n",
            "\n",
            "       accuracy                           0.75       150\n",
            "      macro avg       0.79      0.75      0.75       150\n",
            "   weighted avg       0.79      0.75      0.75       150\n",
            "\n"
          ]
        }
      ],
      "source": [
        "print(classification_report(ytrue, yhat, target_names=['Congratulations', 'Excuse', 'Good-afternoon', 'Good-bye', 'Good-evening',\n",
        "                                                      'Good-morning', 'Good-night', 'Happy-birthday', 'Hi,-hello',\n",
        "                                                      'How-are-you', 'Name', 'No', 'Sorry', 'Thank-you', 'You-are-welcome']))"
      ]
    },
    {
      "cell_type": "markdown",
      "metadata": {
        "id": "AtV_7UeM8uAD"
      },
      "source": [
        "# Save GRU Model"
      ]
    },
    {
      "cell_type": "code",
      "execution_count": null,
      "metadata": {
        "id": "dygYBGIG8vxI"
      },
      "outputs": [],
      "source": [
        "model_GRU.save(\"/content/drive/My Drive/GRUModel.h5\") "
      ]
    },
    {
      "cell_type": "code",
      "execution_count": null,
      "metadata": {
        "id": "NaMZDSok8wkv"
      },
      "outputs": [],
      "source": [
        "converter = tf.lite.TFLiteConverter.from_keras_model(model_GRU)\n",
        "\n",
        "# ✅ Enable resource variables (needed for GRU)\n",
        "converter.experimental_enable_resource_variables = True\n",
        "\n",
        "# ✅ Include Select TF Ops (needed for unsupported ops like TensorListReserve)\n",
        "converter.target_spec.supported_ops = [\n",
        "    tf.lite.OpsSet.TFLITE_BUILTINS,        # enable built-in ops\n",
        "    tf.lite.OpsSet.SELECT_TF_OPS           # include select TensorFlow ops\n",
        "]\n",
        "\n",
        "# ✅ Disable lowering TensorList ops (helps with GRU/LSTM)\n",
        "converter._experimental_lower_tensor_list_ops = False\n",
        "\n",
        "# 🔄 Convert\n",
        "model_tflite = converter.convert()\n",
        "\n",
        "# 💾 Save\n",
        "with open(\"/content/drive/My Drive/GRUModel.tflite\", \"wb\") as f:\n",
        "    f.write(model_tflite)\n",
        "\n",
        "print(\"✅ TFLite model with Select TF Ops saved successfully.\")"
      ]
    }
  ],
  "metadata": {
    "colab": {
      "provenance": []
    },
    "kernelspec": {
      "display_name": "Python 3",
      "name": "python3"
    },
    "language_info": {
      "name": "python"
    }
  },
  "nbformat": 4,
  "nbformat_minor": 0
}
